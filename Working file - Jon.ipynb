{
 "cells": [
  {
   "cell_type": "code",
   "execution_count": 1,
   "id": "f63a611b",
   "metadata": {},
   "outputs": [
    {
     "ename": "ModuleNotFoundError",
     "evalue": "No module named 'config'",
     "output_type": "error",
     "traceback": [
      "\u001b[1;31m---------------------------------------------------------------------------\u001b[0m",
      "\u001b[1;31mModuleNotFoundError\u001b[0m                       Traceback (most recent call last)",
      "\u001b[1;32m<ipython-input-1-7662b1baae4a>\u001b[0m in \u001b[0;36m<module>\u001b[1;34m\u001b[0m\n\u001b[0;32m      8\u001b[0m \u001b[1;32mimport\u001b[0m \u001b[0mrequests\u001b[0m\u001b[1;33m\u001b[0m\u001b[1;33m\u001b[0m\u001b[0m\n\u001b[0;32m      9\u001b[0m \u001b[1;32mfrom\u001b[0m \u001b[0mcensus\u001b[0m \u001b[1;32mimport\u001b[0m \u001b[0mCensus\u001b[0m\u001b[1;33m\u001b[0m\u001b[1;33m\u001b[0m\u001b[0m\n\u001b[1;32m---> 10\u001b[1;33m \u001b[1;32mfrom\u001b[0m \u001b[0mconfig\u001b[0m \u001b[1;32mimport\u001b[0m \u001b[0mgkey\u001b[0m\u001b[1;33m\u001b[0m\u001b[1;33m\u001b[0m\u001b[0m\n\u001b[0m\u001b[0;32m     11\u001b[0m \u001b[1;33m\u001b[0m\u001b[0m\n\u001b[0;32m     12\u001b[0m \u001b[0mgmaps\u001b[0m\u001b[1;33m.\u001b[0m\u001b[0mconfigure\u001b[0m\u001b[1;33m(\u001b[0m\u001b[0mapi_key\u001b[0m\u001b[1;33m=\u001b[0m\u001b[0mgkey\u001b[0m\u001b[1;33m)\u001b[0m\u001b[1;33m\u001b[0m\u001b[1;33m\u001b[0m\u001b[0m\n",
      "\u001b[1;31mModuleNotFoundError\u001b[0m: No module named 'config'"
     ]
    }
   ],
   "source": [
    "import pandas as pd\n",
    "import numpy as np\n",
    "import json\n",
    "import gmaps\n",
    "import matplotlib as plt\n",
    "import seaborn as sns\n",
    "import scipy.stats as stats\n",
    "import requests\n",
    "from census import Census\n",
    "from config import gkey\n",
    "\n",
    "gmaps.configure(api_key=gkey)\n"
   ]
  },
  {
   "cell_type": "code",
   "execution_count": null,
   "id": "6af8d29f",
   "metadata": {},
   "outputs": [],
   "source": [
    "# print(json.dumps(geo_data, indent=4, sort_keys=True))"
   ]
  },
  {
   "cell_type": "code",
   "execution_count": null,
   "id": "2f1549bf",
   "metadata": {},
   "outputs": [],
   "source": [
    "file = \"Resources/Austin Data Set CSV.csv\"\n",
    "base_df = pd.read_csv(file)\n",
    "\n",
    "# pd.set_option(\"display.max_rows\", 15)\n",
    "\n",
    "# base_df.head()"
   ]
  },
  {
   "cell_type": "code",
   "execution_count": null,
   "id": "770e5a1b",
   "metadata": {
    "scrolled": true
   },
   "outputs": [],
   "source": [
    "base_df.info()"
   ]
  },
  {
   "cell_type": "code",
   "execution_count": null,
   "id": "af150ce3",
   "metadata": {},
   "outputs": [],
   "source": [
    "total_schools = base_df[[\"city\", \"numOfPrimarySchools\", \"numOfElementarySchools\", \"numOfMiddleSchools\", \"numOfHighSchools\"]]\n",
    "total_schools.value_counts()"
   ]
  },
  {
   "cell_type": "code",
   "execution_count": null,
   "id": "8b02e113",
   "metadata": {},
   "outputs": [],
   "source": [
    "base_df.homeType.value_counts()\n",
    "# make bar chart of these values and then tell the story, becuase \n",
    "# of this slant in the data we focused only on single family homes.  then check single fmaily homes for outliers "
   ]
  },
  {
   "cell_type": "code",
   "execution_count": null,
   "id": "64259137",
   "metadata": {},
   "outputs": [],
   "source": [
    "base_df.yearBuilt.sort_values(ascending =False) \n",
    "# research sort codes  play with this "
   ]
  },
  {
   "cell_type": "code",
   "execution_count": null,
   "id": "c4f9bf51",
   "metadata": {},
   "outputs": [],
   "source": [
    "#  base_df.describe()\n",
    "\n",
    "# we should rule out the outliers, below is a breakout that shows some homes have 27 rooms and 20 bathrooms.  "
   ]
  },
  {
   "cell_type": "code",
   "execution_count": null,
   "id": "2145a085",
   "metadata": {},
   "outputs": [],
   "source": [
    "base_df.numOfBathrooms.value_counts()\n",
    "# there are two entries with an unusual amount of bathrooms, one with 13 and one with 27, outliers that should be removed? "
   ]
  },
  {
   "cell_type": "code",
   "execution_count": null,
   "id": "e8f57884",
   "metadata": {},
   "outputs": [],
   "source": [
    "base_df.city.value_counts()\n",
    "# same as above, due to data set "
   ]
  },
  {
   "cell_type": "code",
   "execution_count": null,
   "id": "49c3ab07",
   "metadata": {},
   "outputs": [],
   "source": [
    "base_df.describe\n",
    "base_df[\"numOfBathrooms\"].max()\n",
    "\n"
   ]
  },
  {
   "cell_type": "code",
   "execution_count": null,
   "id": "77e7abb9",
   "metadata": {},
   "outputs": [],
   "source": [
    "base_df"
   ]
  },
  {
   "cell_type": "code",
   "execution_count": null,
   "id": "2d322a73",
   "metadata": {},
   "outputs": [],
   "source": [
    "mask = base_df.numOfBathrooms != 27.0\n",
    "new1 = base_df[mask]\n",
    "new1.numOfBathrooms"
   ]
  },
  {
   "cell_type": "code",
   "execution_count": null,
   "id": "f960af4f",
   "metadata": {},
   "outputs": [],
   "source": [
    "mask = base_df.lotSizeSqFt != 1508482800.0\n",
    "new = base_df[mask]\n",
    "new.numOfBathrooms"
   ]
  },
  {
   "cell_type": "code",
   "execution_count": null,
   "id": "5f38c6aa",
   "metadata": {},
   "outputs": [],
   "source": [
    "mask = new.numOfBathrooms != 27.0\n",
    "new1 = new[mask]\n",
    "new1.numOfBathrooms"
   ]
  },
  {
   "cell_type": "code",
   "execution_count": null,
   "id": "d9791286",
   "metadata": {},
   "outputs": [],
   "source": [
    "mask = new1.homeType == \"Single Family\"\n",
    "cleaned_data = new1[mask]\n",
    "cleaned_data.homeType.value_counts()"
   ]
  },
  {
   "cell_type": "code",
   "execution_count": null,
   "id": "acf97f00",
   "metadata": {},
   "outputs": [],
   "source": [
    "\n",
    "\n",
    "# avg_byzip = base_df[[\"zipcode\", \"latestPrice\", \"lotSizeSqFt\",\n",
    "#                            \"livingAreaSqFt\", \"numOfBedrooms\", \"numOfBathrooms\"]]\n",
    "# avg_byzip.head()\n",
    "\n"
   ]
  },
  {
   "cell_type": "code",
   "execution_count": null,
   "id": "844b41b8",
   "metadata": {},
   "outputs": [],
   "source": [
    "#my attempt at getting the average price by zipcode \n",
    "zipgroup = avg_byzip.groupby([\"zipcode\"])\n",
    "\n",
    "zip_copmarison = zipgroup.mean()\n",
    "# zip_copmarison"
   ]
  },
  {
   "cell_type": "code",
   "execution_count": null,
   "id": "4617193f",
   "metadata": {},
   "outputs": [],
   "source": [
    "base_df['latest_saleyear'].unique()\n"
   ]
  },
  {
   "cell_type": "code",
   "execution_count": null,
   "id": "24682b54",
   "metadata": {},
   "outputs": [],
   "source": [
    "base_df['latest_saledate'].max()"
   ]
  },
  {
   "cell_type": "code",
   "execution_count": null,
   "id": "0491f423",
   "metadata": {},
   "outputs": [],
   "source": [
    "base_df['latest_saleyear'].unique()"
   ]
  },
  {
   "cell_type": "code",
   "execution_count": null,
   "id": "e48726cd",
   "metadata": {},
   "outputs": [],
   "source": [
    "yearly_sales = base_df['latest_saleyear'].value_counts()\n",
    "yearly_sales"
   ]
  },
  {
   "cell_type": "code",
   "execution_count": null,
   "id": "91cbf86f",
   "metadata": {},
   "outputs": [],
   "source": [
    "avg_yearly_saleprice = base_df.groupby(\"latest_saleyear\").latestPrice.mean()\n",
    "avg_yearly_saleprice"
   ]
  },
  {
   "cell_type": "code",
   "execution_count": null,
   "id": "321dcc6b",
   "metadata": {},
   "outputs": [],
   "source": [
    "sns.set_theme(style=\"dark\")"
   ]
  },
  {
   "cell_type": "code",
   "execution_count": null,
   "id": "38771ec0",
   "metadata": {},
   "outputs": [],
   "source": [
    "# base_df.violinplot(\"latestPrice\", by=\"latest_saleyear\", figsize=(20, 10))\n",
    "\n",
    "# sns.violinplot(data=base_df, x=\"latest_saleyear\", y=\"latestPrice\", hue=\"smoker\",\n",
    "#                split=True, inner=\"quart\", linewidth=1,\n",
    "#                palette={\"Yes\": \"b\", \"No\": \".85\"})\n",
    "# sns.despine(left=True)\n",
    "\n",
    "ax = sns.violinplot(x=\"latest_saleyear\", y=\"latestPrice\", data=base_df)"
   ]
  },
  {
   "cell_type": "code",
   "execution_count": null,
   "id": "75b72461",
   "metadata": {},
   "outputs": [],
   "source": [
    "sns.relplot(data=base_df, x=\"lotSizeSqFt\", y=\"latestPrice\", hue=\"latest_saleyear\")"
   ]
  },
  {
   "cell_type": "code",
   "execution_count": null,
   "id": "bf118922",
   "metadata": {},
   "outputs": [],
   "source": [
    "sns.set_theme(style=\"white\", rc={\"axes.facecolor\": (0, 0, 0, 0)})"
   ]
  },
  {
   "cell_type": "code",
   "execution_count": null,
   "id": "ab155c0a",
   "metadata": {},
   "outputs": [],
   "source": [
    "# target_city = \"Austin, Texas\"\n",
    "\n",
    "# target_url = f\"https://maps.googleapis.com/maps/api/geocode/json?address={target_city}&key={gkey}\"\n",
    "# target_url"
   ]
  },
  {
   "cell_type": "code",
   "execution_count": null,
   "id": "1af6553a",
   "metadata": {},
   "outputs": [],
   "source": [
    "# response = requests.get(target_url)\n",
    "\n",
    "# geo_data = response.json()\n",
    "\n",
    "# Print the json"
   ]
  },
  {
   "cell_type": "code",
   "execution_count": null,
   "id": "376afba5",
   "metadata": {},
   "outputs": [],
   "source": [
    "# base_df.rename(columns={'latestPrice': 'Price'}, inplace=True)\n",
    "len(base_df[[\"latestPrice\"]])"
   ]
  },
  {
   "cell_type": "code",
   "execution_count": null,
   "id": "524febbd",
   "metadata": {},
   "outputs": [],
   "source": [
    "city_latslong = base_df[[\"latitude\", \"longitude\", \"latestPrice\"]]\n",
    "city_latslong"
   ]
  },
  {
   "cell_type": "code",
   "execution_count": null,
   "id": "c78929fd",
   "metadata": {},
   "outputs": [],
   "source": [
    "#  def _render_map(self, initial_year):              \n",
    "\n",
    "#         fig = gmaps.figure() \n",
    "#         self._marker_layer = gmaps.marker_layer([])\n",
    "       \n",
    "#         self._heatmap = gmaps.heatmap_layer(self._locations_for_year(initial_year),\n",
    "#                                             weights=self._weights_for_year(initial_year),\n",
    "#                                             max_intensity=self._max_weights_for_year(initial_year),\n",
    "#                                             point_radius=10)\n",
    "#         fig.add_layer(self._heatmap)\n",
    "#         fig.add_layer(self._marker_layer)\n",
    "#         return fig"
   ]
  },
  {
   "cell_type": "code",
   "execution_count": null,
   "id": "06b6ef97",
   "metadata": {},
   "outputs": [],
   "source": [
    "figure_layout = {\n",
    "    'width': '400px',\n",
    "    'height': '300px',\n",
    "    'border': '1px solid black',\n",
    "    'padding': '1px',\n",
    "    'margin': '0 auto 0 auto'\n",
    "}\n",
    "fig = gmaps.figure(layout=figure_layout)"
   ]
  },
  {
   "cell_type": "code",
   "execution_count": null,
   "id": "7ab0a01f",
   "metadata": {},
   "outputs": [],
   "source": [
    "# markers = gmaps.marker_layer(city_latslong)\n",
    "# # Add the layer to the map\n",
    "# fig.add_layer(markers)\n",
    "# fig"
   ]
  },
  {
   "cell_type": "code",
   "execution_count": null,
   "id": "c5f259ca",
   "metadata": {},
   "outputs": [],
   "source": [
    "len(city_latslong)"
   ]
  },
  {
   "cell_type": "code",
   "execution_count": null,
   "id": "8645fe1f",
   "metadata": {},
   "outputs": [],
   "source": [
    "price = base_df['latestPrice']\n",
    "price"
   ]
  },
  {
   "cell_type": "code",
   "execution_count": null,
   "id": "69d80a23",
   "metadata": {},
   "outputs": [],
   "source": [
    "# fig = gmaps.figure(center(51.5, -0.2), zoom_level=11)\n",
    "# fig.add_layer(gmaps.traffic_layer)\n",
    "# fig"
   ]
  },
  {
   "cell_type": "code",
   "execution_count": null,
   "id": "95c00706",
   "metadata": {},
   "outputs": [],
   "source": [
    "locations = city_latslong[[\"latitude\", \"longitude\"]]\n",
    "fig = gmaps.figure(map_type='TERRAIN')\n",
    "heatmap_layer = gmaps.heatmap_layer(locations, weights=base_df['latestPrice']) \n",
    "\n",
    "fig.add_layer(heatmap_layer)\n",
    "# fig.add_layer(gmaps.traffic_layer)\n",
    "fig"
   ]
  },
  {
   "cell_type": "code",
   "execution_count": null,
   "id": "9bef368c",
   "metadata": {},
   "outputs": [],
   "source": [
    "# heatmap_layer.gradient = [\n",
    "#     'white',\n",
    "#     'teal',\n",
    "#     'aqua'\n",
    "# ]\n",
    "heatmap_layer.point_radius = 25\n",
    "# heatmap_layer.opacity = 0.0 # make the heatmap transparent"
   ]
  }
 ],
 "metadata": {
  "kernelspec": {
   "display_name": "Python 3",
   "language": "python",
   "name": "python3"
  },
  "language_info": {
   "codemirror_mode": {
    "name": "ipython",
    "version": 3
   },
   "file_extension": ".py",
   "mimetype": "text/x-python",
   "name": "python",
   "nbconvert_exporter": "python",
   "pygments_lexer": "ipython3",
   "version": "3.8.8"
  }
 },
 "nbformat": 4,
 "nbformat_minor": 5
}
