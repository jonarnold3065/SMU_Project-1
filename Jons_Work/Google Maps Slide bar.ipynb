{
 "cells": [
  {
   "cell_type": "code",
   "execution_count": 1,
   "id": "8f7fedb4",
   "metadata": {},
   "outputs": [],
   "source": [
    "import pandas as pd\n",
    "import numpy as np\n",
    "import json\n",
    "import gmaps\n",
    "import matplotlib.pyplot as plt\n",
    "import seaborn as sns\n",
    "import scipy.stats as stats\n",
    "import requests\n",
    "from census import Census\n",
    "from config import gkey\n",
    "from IPython.display import display\n",
    "import ipywidgets as widgets\n",
    "import gmaps.geojson_geometries\n",
    "\n",
    "gmaps.configure(api_key=gkey)\n"
   ]
  },
  {
   "cell_type": "code",
   "execution_count": 2,
   "id": "f9a48a63",
   "metadata": {},
   "outputs": [],
   "source": [
    "file = \"../Resources/Austin Data Set CSV.csv\"\n",
    "base_df = pd.read_csv(file)"
   ]
  },
  {
   "cell_type": "code",
   "execution_count": 3,
   "id": "389ffb62",
   "metadata": {},
   "outputs": [
    {
     "data": {
      "text/plain": [
       "0        3.0\n",
       "1        2.0\n",
       "2        2.0\n",
       "3        2.0\n",
       "4        3.0\n",
       "        ... \n",
       "15166    2.0\n",
       "15167    4.0\n",
       "15168    3.0\n",
       "15169    2.0\n",
       "15170    1.0\n",
       "Name: numOfBathrooms, Length: 15170, dtype: float64"
      ]
     },
     "execution_count": 3,
     "metadata": {},
     "output_type": "execute_result"
    }
   ],
   "source": [
    "mask = base_df.lotSizeSqFt != 1508482800.0\n",
    "new = base_df[mask]\n",
    "new.numOfBathrooms"
   ]
  },
  {
   "cell_type": "code",
   "execution_count": 4,
   "id": "60246999",
   "metadata": {},
   "outputs": [
    {
     "data": {
      "text/plain": [
       "0        3.0\n",
       "1        2.0\n",
       "2        2.0\n",
       "3        2.0\n",
       "4        3.0\n",
       "        ... \n",
       "15166    2.0\n",
       "15167    4.0\n",
       "15168    3.0\n",
       "15169    2.0\n",
       "15170    1.0\n",
       "Name: numOfBathrooms, Length: 15169, dtype: float64"
      ]
     },
     "execution_count": 4,
     "metadata": {},
     "output_type": "execute_result"
    }
   ],
   "source": [
    "mask = new.numOfBathrooms != 27.0\n",
    "new1 = new[mask]\n",
    "new1.numOfBathrooms"
   ]
  },
  {
   "cell_type": "code",
   "execution_count": 5,
   "id": "acbf694c",
   "metadata": {},
   "outputs": [
    {
     "data": {
      "text/plain": [
       "Single Family    14239\n",
       "Name: homeType, dtype: int64"
      ]
     },
     "execution_count": 5,
     "metadata": {},
     "output_type": "execute_result"
    }
   ],
   "source": [
    "mask = new1.homeType == \"Single Family\"\n",
    "cleaned_data = new1[mask]\n",
    "cleaned_data.homeType.value_counts()"
   ]
  },
  {
   "cell_type": "code",
   "execution_count": 6,
   "id": "ba2731b6",
   "metadata": {},
   "outputs": [
    {
     "data": {
      "text/plain": [
       "Index(['zpid', 'city', 'streetAddress', 'zipcode', 'description', 'latitude',\n",
       "       'longitude', 'propertyTaxRate', 'garageSpaces', 'hasAssociation',\n",
       "       'hasCooling', 'hasGarage', 'hasHeating', 'hasSpa', 'hasView',\n",
       "       'homeType', 'parkingSpaces', 'yearBuilt', 'latestPrice',\n",
       "       'numPriceChanges', 'latest_saledate', 'latest_salemonth',\n",
       "       'latest_saleyear', 'latestPriceSource', 'numOfPhotos',\n",
       "       'numOfAccessibilityFeatures', 'numOfAppliances', 'numOfParkingFeatures',\n",
       "       'numOfPatioAndPorchFeatures', 'numOfSecurityFeatures',\n",
       "       'numOfWaterfrontFeatures', 'numOfWindowFeatures',\n",
       "       'numOfCommunityFeatures', 'lotSizeSqFt', 'livingAreaSqFt',\n",
       "       'numOfPrimarySchools', 'numOfElementarySchools', 'numOfMiddleSchools',\n",
       "       'numOfHighSchools', 'avgSchoolDistance', 'avgSchoolRating',\n",
       "       'avgSchoolSize', 'MedianStudentsPerTeacher', 'numOfBathrooms',\n",
       "       'numOfBedrooms', 'numOfStories', 'homeImage'],\n",
       "      dtype='object')"
      ]
     },
     "execution_count": 6,
     "metadata": {},
     "output_type": "execute_result"
    }
   ],
   "source": [
    "cleaned_data.columns"
   ]
  },
  {
   "cell_type": "code",
   "execution_count": 7,
   "id": "4f000101",
   "metadata": {},
   "outputs": [
    {
     "data": {
      "text/html": [
       "<div>\n",
       "<style scoped>\n",
       "    .dataframe tbody tr th:only-of-type {\n",
       "        vertical-align: middle;\n",
       "    }\n",
       "\n",
       "    .dataframe tbody tr th {\n",
       "        vertical-align: top;\n",
       "    }\n",
       "\n",
       "    .dataframe thead th {\n",
       "        text-align: right;\n",
       "    }\n",
       "</style>\n",
       "<table border=\"1\" class=\"dataframe\">\n",
       "  <thead>\n",
       "    <tr style=\"text-align: right;\">\n",
       "      <th></th>\n",
       "      <th>latitude</th>\n",
       "      <th>longitude</th>\n",
       "      <th>latestPrice</th>\n",
       "    </tr>\n",
       "  </thead>\n",
       "  <tbody>\n",
       "    <tr>\n",
       "      <th>0</th>\n",
       "      <td>30.430632</td>\n",
       "      <td>-97.663078</td>\n",
       "      <td>305000</td>\n",
       "    </tr>\n",
       "    <tr>\n",
       "      <th>1</th>\n",
       "      <td>30.432672</td>\n",
       "      <td>-97.661697</td>\n",
       "      <td>295000</td>\n",
       "    </tr>\n",
       "    <tr>\n",
       "      <th>2</th>\n",
       "      <td>30.409748</td>\n",
       "      <td>-97.639771</td>\n",
       "      <td>256125</td>\n",
       "    </tr>\n",
       "    <tr>\n",
       "      <th>3</th>\n",
       "      <td>30.432112</td>\n",
       "      <td>-97.661659</td>\n",
       "      <td>240000</td>\n",
       "    </tr>\n",
       "    <tr>\n",
       "      <th>4</th>\n",
       "      <td>30.437368</td>\n",
       "      <td>-97.656860</td>\n",
       "      <td>239900</td>\n",
       "    </tr>\n",
       "    <tr>\n",
       "      <th>...</th>\n",
       "      <td>...</td>\n",
       "      <td>...</td>\n",
       "      <td>...</td>\n",
       "    </tr>\n",
       "    <tr>\n",
       "      <th>15165</th>\n",
       "      <td>30.185915</td>\n",
       "      <td>-97.828415</td>\n",
       "      <td>280000</td>\n",
       "    </tr>\n",
       "    <tr>\n",
       "      <th>15166</th>\n",
       "      <td>30.161997</td>\n",
       "      <td>-97.816345</td>\n",
       "      <td>330000</td>\n",
       "    </tr>\n",
       "    <tr>\n",
       "      <th>15167</th>\n",
       "      <td>30.240223</td>\n",
       "      <td>-97.772835</td>\n",
       "      <td>550000</td>\n",
       "    </tr>\n",
       "    <tr>\n",
       "      <th>15168</th>\n",
       "      <td>30.244835</td>\n",
       "      <td>-97.761124</td>\n",
       "      <td>875000</td>\n",
       "    </tr>\n",
       "    <tr>\n",
       "      <th>15170</th>\n",
       "      <td>30.276930</td>\n",
       "      <td>-97.701523</td>\n",
       "      <td>374900</td>\n",
       "    </tr>\n",
       "  </tbody>\n",
       "</table>\n",
       "<p>14239 rows × 3 columns</p>\n",
       "</div>"
      ],
      "text/plain": [
       "        latitude  longitude  latestPrice\n",
       "0      30.430632 -97.663078       305000\n",
       "1      30.432672 -97.661697       295000\n",
       "2      30.409748 -97.639771       256125\n",
       "3      30.432112 -97.661659       240000\n",
       "4      30.437368 -97.656860       239900\n",
       "...          ...        ...          ...\n",
       "15165  30.185915 -97.828415       280000\n",
       "15166  30.161997 -97.816345       330000\n",
       "15167  30.240223 -97.772835       550000\n",
       "15168  30.244835 -97.761124       875000\n",
       "15170  30.276930 -97.701523       374900\n",
       "\n",
       "[14239 rows x 3 columns]"
      ]
     },
     "execution_count": 7,
     "metadata": {},
     "output_type": "execute_result"
    }
   ],
   "source": [
    "city_latslong = cleaned_data[[\"latitude\", \"longitude\", \"latestPrice\"]]\n",
    "city_latslong"
   ]
  },
  {
   "cell_type": "code",
   "execution_count": 8,
   "id": "f8e89e7e",
   "metadata": {},
   "outputs": [
    {
     "data": {
      "text/plain": [
       "0        305000\n",
       "1        295000\n",
       "2        256125\n",
       "3        240000\n",
       "4        239900\n",
       "          ...  \n",
       "15165    280000\n",
       "15166    330000\n",
       "15167    550000\n",
       "15168    875000\n",
       "15170    374900\n",
       "Name: latestPrice, Length: 14239, dtype: int64"
      ]
     },
     "execution_count": 8,
     "metadata": {},
     "output_type": "execute_result"
    }
   ],
   "source": [
    "price = cleaned_data['latestPrice']\n",
    "price"
   ]
  },
  {
   "cell_type": "code",
   "execution_count": 9,
   "id": "d2cc7e73",
   "metadata": {},
   "outputs": [
    {
     "data": {
      "text/html": [
       "<div>\n",
       "<style scoped>\n",
       "    .dataframe tbody tr th:only-of-type {\n",
       "        vertical-align: middle;\n",
       "    }\n",
       "\n",
       "    .dataframe tbody tr th {\n",
       "        vertical-align: top;\n",
       "    }\n",
       "\n",
       "    .dataframe thead th {\n",
       "        text-align: right;\n",
       "    }\n",
       "</style>\n",
       "<table border=\"1\" class=\"dataframe\">\n",
       "  <thead>\n",
       "    <tr style=\"text-align: right;\">\n",
       "      <th></th>\n",
       "      <th>latest_saleyear</th>\n",
       "      <th>latitude</th>\n",
       "      <th>longitude</th>\n",
       "      <th>latestPrice</th>\n",
       "    </tr>\n",
       "  </thead>\n",
       "  <tbody>\n",
       "    <tr>\n",
       "      <th>0</th>\n",
       "      <td>2019</td>\n",
       "      <td>30.430632</td>\n",
       "      <td>-97.663078</td>\n",
       "      <td>305000</td>\n",
       "    </tr>\n",
       "    <tr>\n",
       "      <th>1</th>\n",
       "      <td>2020</td>\n",
       "      <td>30.432672</td>\n",
       "      <td>-97.661697</td>\n",
       "      <td>295000</td>\n",
       "    </tr>\n",
       "    <tr>\n",
       "      <th>2</th>\n",
       "      <td>2019</td>\n",
       "      <td>30.409748</td>\n",
       "      <td>-97.639771</td>\n",
       "      <td>256125</td>\n",
       "    </tr>\n",
       "    <tr>\n",
       "      <th>3</th>\n",
       "      <td>2018</td>\n",
       "      <td>30.432112</td>\n",
       "      <td>-97.661659</td>\n",
       "      <td>240000</td>\n",
       "    </tr>\n",
       "    <tr>\n",
       "      <th>4</th>\n",
       "      <td>2018</td>\n",
       "      <td>30.437368</td>\n",
       "      <td>-97.656860</td>\n",
       "      <td>239900</td>\n",
       "    </tr>\n",
       "    <tr>\n",
       "      <th>...</th>\n",
       "      <td>...</td>\n",
       "      <td>...</td>\n",
       "      <td>...</td>\n",
       "      <td>...</td>\n",
       "    </tr>\n",
       "    <tr>\n",
       "      <th>15165</th>\n",
       "      <td>2020</td>\n",
       "      <td>30.185915</td>\n",
       "      <td>-97.828415</td>\n",
       "      <td>280000</td>\n",
       "    </tr>\n",
       "    <tr>\n",
       "      <th>15166</th>\n",
       "      <td>2020</td>\n",
       "      <td>30.161997</td>\n",
       "      <td>-97.816345</td>\n",
       "      <td>330000</td>\n",
       "    </tr>\n",
       "    <tr>\n",
       "      <th>15167</th>\n",
       "      <td>2020</td>\n",
       "      <td>30.240223</td>\n",
       "      <td>-97.772835</td>\n",
       "      <td>550000</td>\n",
       "    </tr>\n",
       "    <tr>\n",
       "      <th>15168</th>\n",
       "      <td>2021</td>\n",
       "      <td>30.244835</td>\n",
       "      <td>-97.761124</td>\n",
       "      <td>875000</td>\n",
       "    </tr>\n",
       "    <tr>\n",
       "      <th>15170</th>\n",
       "      <td>2021</td>\n",
       "      <td>30.276930</td>\n",
       "      <td>-97.701523</td>\n",
       "      <td>374900</td>\n",
       "    </tr>\n",
       "  </tbody>\n",
       "</table>\n",
       "<p>14239 rows × 4 columns</p>\n",
       "</div>"
      ],
      "text/plain": [
       "       latest_saleyear   latitude  longitude  latestPrice\n",
       "0                 2019  30.430632 -97.663078       305000\n",
       "1                 2020  30.432672 -97.661697       295000\n",
       "2                 2019  30.409748 -97.639771       256125\n",
       "3                 2018  30.432112 -97.661659       240000\n",
       "4                 2018  30.437368 -97.656860       239900\n",
       "...                ...        ...        ...          ...\n",
       "15165             2020  30.185915 -97.828415       280000\n",
       "15166             2020  30.161997 -97.816345       330000\n",
       "15167             2020  30.240223 -97.772835       550000\n",
       "15168             2021  30.244835 -97.761124       875000\n",
       "15170             2021  30.276930 -97.701523       374900\n",
       "\n",
       "[14239 rows x 4 columns]"
      ]
     },
     "execution_count": 9,
     "metadata": {},
     "output_type": "execute_result"
    }
   ],
   "source": [
    "sale_year = cleaned_data[[\"latest_saleyear\", \"latitude\", 'longitude', \"latestPrice\"]]\n",
    "sale_year"
   ]
  },
  {
   "cell_type": "code",
   "execution_count": 10,
   "id": "6dc9eb71",
   "metadata": {},
   "outputs": [
    {
     "name": "stderr",
     "output_type": "stream",
     "text": [
      "C:\\Users\\arnol\\anaconda3\\lib\\site-packages\\pandas\\core\\frame.py:4441: SettingWithCopyWarning: \n",
      "A value is trying to be set on a copy of a slice from a DataFrame\n",
      "\n",
      "See the caveats in the documentation: https://pandas.pydata.org/pandas-docs/stable/user_guide/indexing.html#returning-a-view-versus-a-copy\n",
      "  return super().rename(\n"
     ]
    },
    {
     "data": {
      "text/html": [
       "<div>\n",
       "<style scoped>\n",
       "    .dataframe tbody tr th:only-of-type {\n",
       "        vertical-align: middle;\n",
       "    }\n",
       "\n",
       "    .dataframe tbody tr th {\n",
       "        vertical-align: top;\n",
       "    }\n",
       "\n",
       "    .dataframe thead th {\n",
       "        text-align: right;\n",
       "    }\n",
       "</style>\n",
       "<table border=\"1\" class=\"dataframe\">\n",
       "  <thead>\n",
       "    <tr style=\"text-align: right;\">\n",
       "      <th></th>\n",
       "      <th>year</th>\n",
       "      <th>latitude</th>\n",
       "      <th>longitude</th>\n",
       "      <th>latestPrice</th>\n",
       "    </tr>\n",
       "  </thead>\n",
       "  <tbody>\n",
       "    <tr>\n",
       "      <th>0</th>\n",
       "      <td>2019</td>\n",
       "      <td>30.430632</td>\n",
       "      <td>-97.663078</td>\n",
       "      <td>305000</td>\n",
       "    </tr>\n",
       "    <tr>\n",
       "      <th>1</th>\n",
       "      <td>2020</td>\n",
       "      <td>30.432672</td>\n",
       "      <td>-97.661697</td>\n",
       "      <td>295000</td>\n",
       "    </tr>\n",
       "    <tr>\n",
       "      <th>2</th>\n",
       "      <td>2019</td>\n",
       "      <td>30.409748</td>\n",
       "      <td>-97.639771</td>\n",
       "      <td>256125</td>\n",
       "    </tr>\n",
       "    <tr>\n",
       "      <th>3</th>\n",
       "      <td>2018</td>\n",
       "      <td>30.432112</td>\n",
       "      <td>-97.661659</td>\n",
       "      <td>240000</td>\n",
       "    </tr>\n",
       "    <tr>\n",
       "      <th>4</th>\n",
       "      <td>2018</td>\n",
       "      <td>30.437368</td>\n",
       "      <td>-97.656860</td>\n",
       "      <td>239900</td>\n",
       "    </tr>\n",
       "    <tr>\n",
       "      <th>...</th>\n",
       "      <td>...</td>\n",
       "      <td>...</td>\n",
       "      <td>...</td>\n",
       "      <td>...</td>\n",
       "    </tr>\n",
       "    <tr>\n",
       "      <th>15165</th>\n",
       "      <td>2020</td>\n",
       "      <td>30.185915</td>\n",
       "      <td>-97.828415</td>\n",
       "      <td>280000</td>\n",
       "    </tr>\n",
       "    <tr>\n",
       "      <th>15166</th>\n",
       "      <td>2020</td>\n",
       "      <td>30.161997</td>\n",
       "      <td>-97.816345</td>\n",
       "      <td>330000</td>\n",
       "    </tr>\n",
       "    <tr>\n",
       "      <th>15167</th>\n",
       "      <td>2020</td>\n",
       "      <td>30.240223</td>\n",
       "      <td>-97.772835</td>\n",
       "      <td>550000</td>\n",
       "    </tr>\n",
       "    <tr>\n",
       "      <th>15168</th>\n",
       "      <td>2021</td>\n",
       "      <td>30.244835</td>\n",
       "      <td>-97.761124</td>\n",
       "      <td>875000</td>\n",
       "    </tr>\n",
       "    <tr>\n",
       "      <th>15170</th>\n",
       "      <td>2021</td>\n",
       "      <td>30.276930</td>\n",
       "      <td>-97.701523</td>\n",
       "      <td>374900</td>\n",
       "    </tr>\n",
       "  </tbody>\n",
       "</table>\n",
       "<p>14239 rows × 4 columns</p>\n",
       "</div>"
      ],
      "text/plain": [
       "       year   latitude  longitude  latestPrice\n",
       "0      2019  30.430632 -97.663078       305000\n",
       "1      2020  30.432672 -97.661697       295000\n",
       "2      2019  30.409748 -97.639771       256125\n",
       "3      2018  30.432112 -97.661659       240000\n",
       "4      2018  30.437368 -97.656860       239900\n",
       "...     ...        ...        ...          ...\n",
       "15165  2020  30.185915 -97.828415       280000\n",
       "15166  2020  30.161997 -97.816345       330000\n",
       "15167  2020  30.240223 -97.772835       550000\n",
       "15168  2021  30.244835 -97.761124       875000\n",
       "15170  2021  30.276930 -97.701523       374900\n",
       "\n",
       "[14239 rows x 4 columns]"
      ]
     },
     "execution_count": 10,
     "metadata": {},
     "output_type": "execute_result"
    }
   ],
   "source": [
    "sale_year.rename(columns= {'latest_saleyear': 'year'}, inplace=True)\n",
    "sale_year"
   ]
  },
  {
   "cell_type": "code",
   "execution_count": 49,
   "id": "ce4d46ea",
   "metadata": {},
   "outputs": [
    {
     "data": {
      "text/plain": [
       "11325.6     300\n",
       "12196.8     285\n",
       "11761.2     281\n",
       "6969.0      258\n",
       "7840.0      233\n",
       "           ... \n",
       "10004.0       1\n",
       "138085.2      1\n",
       "7474.0        1\n",
       "9722.0        1\n",
       "5867.0        1\n",
       "Name: lotSizeSqFt, Length: 1426, dtype: int64"
      ]
     },
     "execution_count": 49,
     "metadata": {},
     "output_type": "execute_result"
    }
   ],
   "source": [
    "base_df.lotSizeSqFt.value_counts()\n",
    "# swap out sqft for something more manageable.  like year, house type, etc.  "
   ]
  },
  {
   "cell_type": "code",
   "execution_count": 12,
   "id": "4c5bd197",
   "metadata": {},
   "outputs": [
    {
     "data": {
      "application/vnd.jupyter.widget-view+json": {
       "model_id": "6b90ba469f504df287cb05dc0547f166",
       "version_major": 2,
       "version_minor": 0
      },
      "text/plain": [
       "Figure(layout=FigureLayout(height='420px'))"
      ]
     },
     "metadata": {},
     "output_type": "display_data"
    }
   ],
   "source": [
    "locations = city_latslong[[\"latitude\", \"longitude\"]]\n",
    "fig = gmaps.figure(map_type='TERRAIN')\n",
    "heatmap_layer = gmaps.heatmap_layer(locations, weights=cleaned_data['latestPrice']) \n",
    "\n",
    "fig.add_layer(heatmap_layer)\n",
    "# fig.add_layer(gmaps.traffic_layer)\n",
    "fig"
   ]
  },
  {
   "cell_type": "code",
   "execution_count": 13,
   "id": "e8c30dbc",
   "metadata": {},
   "outputs": [],
   "source": [
    "# class Interactive(object):\n",
    "  \n",
    "\n",
    "#     def __init__(self, count_of_schools):\n",
    "#         self._df = count_of_schools\n",
    "#         self._heatmap = None\n",
    "#         self._slider = None\n",
    "#         min_count = min(self._df['numOfPrimarySchools'])\n",
    "\n",
    "#         map_figure = self._render_map(min_count)\n",
    "#         controls = self._render_controls(min_count)\n",
    "#         self._container = widgets.VBox([title_widget, controls, map_figure])\n",
    "        \n",
    "#         title_widget = widgets.HTML('<h3>Home Price by Square Footage</h3>''<h4>Data from The Austin Housing Project</a></h4>')\n",
    "\n",
    "#     def render(self):\n",
    "#         display(self._container)\n",
    "\n",
    "#     def _on_year_change(self, change):\n",
    "#         numOfPrimarySchools = self._slider.value\n",
    "#         self._heatmap.locations = self._locations_for_year(numOfPrimarySchools)\n",
    "#         self._total_box.value = self._total_count_of_schools_text(numOfPrimarySchools)\n",
    "#         return self._container\n",
    "\n",
    "#     def _render_map(self, min_count):\n",
    "#         fig = gmaps.figure(map_type='TERRAIN')\n",
    "#         self._heatmap = gmaps.heatmap_layer(self._locations_for_year(min_count),\n",
    "#             max_intensity=100,\n",
    "#             point_radius=8\n",
    "#         )\n",
    "        \n",
    "#         fig.add_layer(self._heatmap)\n",
    "#         return fig\n",
    "\n",
    "#     def _render_controls(self, min_sqft):\n",
    "#         self._slider = widgets.IntSlider(\n",
    "#             value=min_count,\n",
    "#             min=min(self._df['numOfPrimarySchools']),\n",
    "#             max=max(self._df['numOfPrimarySchools']),\n",
    "#             description='Count of schools',\n",
    "#             continuous_update=False\n",
    "#         )\n",
    "#         self._total_box = widgets.Label(\n",
    "#             value=self._total_count_of_schools_text(min_count)\n",
    "#         )\n",
    "#         self._slider.observe(self._on_year_change, names='value')\n",
    "#         controls = widgets.HBox(\n",
    "#             [self._slider, self._total_box],\n",
    "#             layout={'justify_content': 'space-between'}\n",
    "#         )\n",
    "#         return controls\n",
    "\n",
    "#     def _locations_for_year(self, numOfPrimarySchools):\n",
    "#         return self._df[self._df['numOfPrimarySchools'] == numOfPrimarySchools][['latitude', 'longitude']]\n",
    "\n",
    "#     def _total_count_of_schools(self, numOfPrimarySchools):\n",
    "#         return int(self._df[self._df['numOfPrimarySchools'] == numOfPrimarySchools]['numOfPrimarySchools'].count())\n",
    "\n",
    "#     def _total_count_of_schools_text(self, numOfPrimarySchools):\n",
    "#         return '{} Count of schools'.format(self._total_count_of_schools(numOfPrimarySchools))\n",
    "    \n",
    "\n",
    "\n",
    "# Interactive(sqft_price).render()"
   ]
  },
  {
   "cell_type": "code",
   "execution_count": 27,
   "id": "da092f36",
   "metadata": {},
   "outputs": [
    {
     "data": {
      "application/vnd.jupyter.widget-view+json": {
       "model_id": "23e9fbc92f0b4be49c9aa1051460d9d0",
       "version_major": 2,
       "version_minor": 0
      },
      "text/plain": [
       "VBox(children=(HTML(value='<h3>Home sales by year</h3><h4>Data from The Austin Housing Project</a></h4>'), HBo…"
      ]
     },
     "metadata": {},
     "output_type": "display_data"
    }
   ],
   "source": [
    "class Interactive(object): \n",
    "    \n",
    "    def __init__(self, sale_year):\n",
    "        self._df = sale_year\n",
    "        self._heatmap = None\n",
    "        self._slider = None\n",
    "        initial_year = min(self._df['year'])\n",
    "\n",
    "        title_widget = widgets.HTML(\n",
    "            '<h3>Home sales by year</h3>''<h4>Data from The Austin Housing Project</a></h4>'\n",
    "            )\n",
    "\n",
    "\n",
    "        map_figure = self._render_map(initial_year)\n",
    "        controls = self._render_controls(initial_year)\n",
    "        self._container = widgets.VBox([title_widget, controls, map_figure])\n",
    "\n",
    "    def render(self):\n",
    "        display(self._container)\n",
    "\n",
    "    def _on_year_change(self, change):\n",
    "        year = self._slider.value\n",
    "        self._heatmap.locations = self._locations_for_year(year)\n",
    "        self._total_box.value = self._total_sales_text_for_year(year)\n",
    "        return self._container\n",
    "\n",
    "    def _render_map(self, initial_year):\n",
    "        fig = gmaps.figure(map_type='HYBRID')\n",
    "        self._heatmap = gmaps.heatmap_layer(\n",
    "            self._locations_for_year(initial_year),\n",
    "            max_intensity=25,\n",
    "            point_radius=20\n",
    "        )\n",
    "        fig.add_layer(self._heatmap)\n",
    "        return fig\n",
    "\n",
    "    def _render_controls(self, initial_year):\n",
    "        self._slider = widgets.IntSlider(\n",
    "            value=initial_year,\n",
    "            min=min(self._df['year']),\n",
    "            max=max(self._df['year']),\n",
    "            description='Year',\n",
    "            continuous_update=False\n",
    "        )\n",
    "        self._total_box = widgets.Label(\n",
    "            value=self._total_sales_text_for_year(initial_year)\n",
    "        )\n",
    "        self._slider.observe(self._on_year_change, names='value')\n",
    "        controls = widgets.HBox(\n",
    "            [self._slider, self._total_box],\n",
    "            layout={'justify_content': 'space-between'}\n",
    "        )\n",
    "        return controls\n",
    "\n",
    "    def _locations_for_year(self, year):\n",
    "        return self._df[self._df['year'] == year][['latitude', 'longitude']]\n",
    "\n",
    "    def _total_sales_for_year(self, year):\n",
    "        return int(self._df[self._df['year'] == year]['year'].count())\n",
    "\n",
    "    def _total_sales_text_for_year(self, year):\n",
    "        return '{} Total Home Sales'.format(self._total_sales_for_year(year))\n",
    "\n",
    "\n",
    "Interactive(sale_year).render()"
   ]
  },
  {
   "cell_type": "code",
   "execution_count": 18,
   "id": "59044da4",
   "metadata": {},
   "outputs": [],
   "source": [
    "heatmap_layer.max_intensity = 10000\n",
    "heatmap_layer.point_radius = 5"
   ]
  },
  {
   "cell_type": "code",
   "execution_count": null,
   "id": "a6ca9f57",
   "metadata": {},
   "outputs": [],
   "source": []
  },
  {
   "cell_type": "code",
   "execution_count": null,
   "id": "53b8de52",
   "metadata": {},
   "outputs": [],
   "source": []
  },
  {
   "cell_type": "code",
   "execution_count": 28,
   "id": "c21f9fdc",
   "metadata": {},
   "outputs": [
    {
     "data": {
      "text/html": [
       "<div>\n",
       "<style scoped>\n",
       "    .dataframe tbody tr th:only-of-type {\n",
       "        vertical-align: middle;\n",
       "    }\n",
       "\n",
       "    .dataframe tbody tr th {\n",
       "        vertical-align: top;\n",
       "    }\n",
       "\n",
       "    .dataframe thead th {\n",
       "        text-align: right;\n",
       "    }\n",
       "</style>\n",
       "<table border=\"1\" class=\"dataframe\">\n",
       "  <thead>\n",
       "    <tr style=\"text-align: right;\">\n",
       "      <th></th>\n",
       "      <th>latest_salemonth</th>\n",
       "      <th>latitude</th>\n",
       "      <th>longitude</th>\n",
       "      <th>latestPrice</th>\n",
       "    </tr>\n",
       "  </thead>\n",
       "  <tbody>\n",
       "    <tr>\n",
       "      <th>0</th>\n",
       "      <td>9</td>\n",
       "      <td>30.430632</td>\n",
       "      <td>-97.663078</td>\n",
       "      <td>305000</td>\n",
       "    </tr>\n",
       "    <tr>\n",
       "      <th>1</th>\n",
       "      <td>10</td>\n",
       "      <td>30.432672</td>\n",
       "      <td>-97.661697</td>\n",
       "      <td>295000</td>\n",
       "    </tr>\n",
       "    <tr>\n",
       "      <th>2</th>\n",
       "      <td>7</td>\n",
       "      <td>30.409748</td>\n",
       "      <td>-97.639771</td>\n",
       "      <td>256125</td>\n",
       "    </tr>\n",
       "    <tr>\n",
       "      <th>3</th>\n",
       "      <td>8</td>\n",
       "      <td>30.432112</td>\n",
       "      <td>-97.661659</td>\n",
       "      <td>240000</td>\n",
       "    </tr>\n",
       "    <tr>\n",
       "      <th>4</th>\n",
       "      <td>10</td>\n",
       "      <td>30.437368</td>\n",
       "      <td>-97.656860</td>\n",
       "      <td>239900</td>\n",
       "    </tr>\n",
       "    <tr>\n",
       "      <th>...</th>\n",
       "      <td>...</td>\n",
       "      <td>...</td>\n",
       "      <td>...</td>\n",
       "      <td>...</td>\n",
       "    </tr>\n",
       "    <tr>\n",
       "      <th>15165</th>\n",
       "      <td>11</td>\n",
       "      <td>30.185915</td>\n",
       "      <td>-97.828415</td>\n",
       "      <td>280000</td>\n",
       "    </tr>\n",
       "    <tr>\n",
       "      <th>15166</th>\n",
       "      <td>12</td>\n",
       "      <td>30.161997</td>\n",
       "      <td>-97.816345</td>\n",
       "      <td>330000</td>\n",
       "    </tr>\n",
       "    <tr>\n",
       "      <th>15167</th>\n",
       "      <td>12</td>\n",
       "      <td>30.240223</td>\n",
       "      <td>-97.772835</td>\n",
       "      <td>550000</td>\n",
       "    </tr>\n",
       "    <tr>\n",
       "      <th>15168</th>\n",
       "      <td>1</td>\n",
       "      <td>30.244835</td>\n",
       "      <td>-97.761124</td>\n",
       "      <td>875000</td>\n",
       "    </tr>\n",
       "    <tr>\n",
       "      <th>15170</th>\n",
       "      <td>1</td>\n",
       "      <td>30.276930</td>\n",
       "      <td>-97.701523</td>\n",
       "      <td>374900</td>\n",
       "    </tr>\n",
       "  </tbody>\n",
       "</table>\n",
       "<p>14239 rows × 4 columns</p>\n",
       "</div>"
      ],
      "text/plain": [
       "       latest_salemonth   latitude  longitude  latestPrice\n",
       "0                     9  30.430632 -97.663078       305000\n",
       "1                    10  30.432672 -97.661697       295000\n",
       "2                     7  30.409748 -97.639771       256125\n",
       "3                     8  30.432112 -97.661659       240000\n",
       "4                    10  30.437368 -97.656860       239900\n",
       "...                 ...        ...        ...          ...\n",
       "15165                11  30.185915 -97.828415       280000\n",
       "15166                12  30.161997 -97.816345       330000\n",
       "15167                12  30.240223 -97.772835       550000\n",
       "15168                 1  30.244835 -97.761124       875000\n",
       "15170                 1  30.276930 -97.701523       374900\n",
       "\n",
       "[14239 rows x 4 columns]"
      ]
     },
     "execution_count": 28,
     "metadata": {},
     "output_type": "execute_result"
    }
   ],
   "source": [
    "sale_month = cleaned_data[[\"latest_salemonth\", \"latitude\", 'longitude', \"latestPrice\"]]\n",
    "sale_month"
   ]
  },
  {
   "cell_type": "code",
   "execution_count": null,
   "id": "5a7e9543",
   "metadata": {},
   "outputs": [],
   "source": [
    "# sale_month = cleaned_data[[\"latest_salemonth\", \"latitude\", 'longitude', \"latestPrice\"]]\n",
    "# sale_month.rename(columns= {'latest_salemonth': 'Month'}, inplace=True)\n",
    "# sale_month"
   ]
  },
  {
   "cell_type": "code",
   "execution_count": 29,
   "id": "a94d9576",
   "metadata": {},
   "outputs": [
    {
     "name": "stderr",
     "output_type": "stream",
     "text": [
      "C:\\Users\\arnol\\anaconda3\\lib\\site-packages\\pandas\\core\\frame.py:4441: SettingWithCopyWarning: \n",
      "A value is trying to be set on a copy of a slice from a DataFrame\n",
      "\n",
      "See the caveats in the documentation: https://pandas.pydata.org/pandas-docs/stable/user_guide/indexing.html#returning-a-view-versus-a-copy\n",
      "  return super().rename(\n"
     ]
    },
    {
     "data": {
      "text/html": [
       "<div>\n",
       "<style scoped>\n",
       "    .dataframe tbody tr th:only-of-type {\n",
       "        vertical-align: middle;\n",
       "    }\n",
       "\n",
       "    .dataframe tbody tr th {\n",
       "        vertical-align: top;\n",
       "    }\n",
       "\n",
       "    .dataframe thead th {\n",
       "        text-align: right;\n",
       "    }\n",
       "</style>\n",
       "<table border=\"1\" class=\"dataframe\">\n",
       "  <thead>\n",
       "    <tr style=\"text-align: right;\">\n",
       "      <th></th>\n",
       "      <th>Month</th>\n",
       "      <th>latitude</th>\n",
       "      <th>longitude</th>\n",
       "      <th>latestPrice</th>\n",
       "    </tr>\n",
       "  </thead>\n",
       "  <tbody>\n",
       "    <tr>\n",
       "      <th>0</th>\n",
       "      <td>9</td>\n",
       "      <td>30.430632</td>\n",
       "      <td>-97.663078</td>\n",
       "      <td>305000</td>\n",
       "    </tr>\n",
       "    <tr>\n",
       "      <th>1</th>\n",
       "      <td>10</td>\n",
       "      <td>30.432672</td>\n",
       "      <td>-97.661697</td>\n",
       "      <td>295000</td>\n",
       "    </tr>\n",
       "    <tr>\n",
       "      <th>2</th>\n",
       "      <td>7</td>\n",
       "      <td>30.409748</td>\n",
       "      <td>-97.639771</td>\n",
       "      <td>256125</td>\n",
       "    </tr>\n",
       "    <tr>\n",
       "      <th>3</th>\n",
       "      <td>8</td>\n",
       "      <td>30.432112</td>\n",
       "      <td>-97.661659</td>\n",
       "      <td>240000</td>\n",
       "    </tr>\n",
       "    <tr>\n",
       "      <th>4</th>\n",
       "      <td>10</td>\n",
       "      <td>30.437368</td>\n",
       "      <td>-97.656860</td>\n",
       "      <td>239900</td>\n",
       "    </tr>\n",
       "    <tr>\n",
       "      <th>...</th>\n",
       "      <td>...</td>\n",
       "      <td>...</td>\n",
       "      <td>...</td>\n",
       "      <td>...</td>\n",
       "    </tr>\n",
       "    <tr>\n",
       "      <th>15165</th>\n",
       "      <td>11</td>\n",
       "      <td>30.185915</td>\n",
       "      <td>-97.828415</td>\n",
       "      <td>280000</td>\n",
       "    </tr>\n",
       "    <tr>\n",
       "      <th>15166</th>\n",
       "      <td>12</td>\n",
       "      <td>30.161997</td>\n",
       "      <td>-97.816345</td>\n",
       "      <td>330000</td>\n",
       "    </tr>\n",
       "    <tr>\n",
       "      <th>15167</th>\n",
       "      <td>12</td>\n",
       "      <td>30.240223</td>\n",
       "      <td>-97.772835</td>\n",
       "      <td>550000</td>\n",
       "    </tr>\n",
       "    <tr>\n",
       "      <th>15168</th>\n",
       "      <td>1</td>\n",
       "      <td>30.244835</td>\n",
       "      <td>-97.761124</td>\n",
       "      <td>875000</td>\n",
       "    </tr>\n",
       "    <tr>\n",
       "      <th>15170</th>\n",
       "      <td>1</td>\n",
       "      <td>30.276930</td>\n",
       "      <td>-97.701523</td>\n",
       "      <td>374900</td>\n",
       "    </tr>\n",
       "  </tbody>\n",
       "</table>\n",
       "<p>14239 rows × 4 columns</p>\n",
       "</div>"
      ],
      "text/plain": [
       "       Month   latitude  longitude  latestPrice\n",
       "0          9  30.430632 -97.663078       305000\n",
       "1         10  30.432672 -97.661697       295000\n",
       "2          7  30.409748 -97.639771       256125\n",
       "3          8  30.432112 -97.661659       240000\n",
       "4         10  30.437368 -97.656860       239900\n",
       "...      ...        ...        ...          ...\n",
       "15165     11  30.185915 -97.828415       280000\n",
       "15166     12  30.161997 -97.816345       330000\n",
       "15167     12  30.240223 -97.772835       550000\n",
       "15168      1  30.244835 -97.761124       875000\n",
       "15170      1  30.276930 -97.701523       374900\n",
       "\n",
       "[14239 rows x 4 columns]"
      ]
     },
     "execution_count": 29,
     "metadata": {},
     "output_type": "execute_result"
    }
   ],
   "source": [
    "sale_month.rename(columns= {'latest_salemonth': 'Month'}, inplace=True)\n",
    "sale_month"
   ]
  },
  {
   "cell_type": "code",
   "execution_count": 33,
   "id": "6d22a856",
   "metadata": {},
   "outputs": [
    {
     "data": {
      "application/vnd.jupyter.widget-view+json": {
       "model_id": "b94c4f5d019949e1aaad27a5477491de",
       "version_major": 2,
       "version_minor": 0
      },
      "text/plain": [
       "VBox(children=(HTML(value='<h3>Home sales by Month</h3><h4>Data from The Austin Housing Project</a></h4>'), HB…"
      ]
     },
     "metadata": {},
     "output_type": "display_data"
    }
   ],
   "source": [
    "class Interactive(object): \n",
    "    \n",
    "    def __init__(self, sale_month):\n",
    "        self._df = sale_month\n",
    "        self._heatmap = None\n",
    "        self._slider = None\n",
    "        initial_month = min(self._df['Month'])\n",
    "\n",
    "        title_widget = widgets.HTML(\n",
    "            '<h3>Home sales by Month</h3>''<h4>Data from The Austin Housing Project</a></h4>'\n",
    "            )\n",
    "\n",
    "\n",
    "        map_figure = self._render_map(initial_month)\n",
    "        controls = self._render_controls(initial_month)\n",
    "        self._container = widgets.VBox([title_widget, controls, map_figure])\n",
    "\n",
    "    def render(self):\n",
    "        display(self._container)\n",
    "\n",
    "    def _on_month_change(self, change):\n",
    "        Month = self._slider.value\n",
    "        self._heatmap.locations = self._locations_for_month(Month)\n",
    "        self._total_box.value = self._total_sales_text_for_month(Month)\n",
    "        return self._container\n",
    "\n",
    "    def _render_map(self, initial_month):\n",
    "        fig = gmaps.figure(map_type='HYBRID')\n",
    "        self._heatmap = gmaps.heatmap_layer(\n",
    "            self._locations_for_month(initial_month),\n",
    "            max_intensity=25,\n",
    "            point_radius=25\n",
    "        )\n",
    "        fig.add_layer(self._heatmap)\n",
    "        return fig\n",
    "\n",
    "    def _render_controls(self, initial_month):\n",
    "        self._slider = widgets.IntSlider(\n",
    "            value=initial_month,\n",
    "            min=min(self._df['Month']),\n",
    "            max=max(self._df['Month']),\n",
    "            description='Month',\n",
    "            continuous_update=False\n",
    "        )\n",
    "        self._total_box = widgets.Label(\n",
    "            value=self._total_sales_text_for_month(initial_month)\n",
    "        )\n",
    "        self._slider.observe(self._on_month_change, names='value')\n",
    "        controls = widgets.HBox(\n",
    "            [self._slider, self._total_box],\n",
    "            layout={'justify_content': 'space-between'}\n",
    "        )\n",
    "        return controls\n",
    "\n",
    "    def _locations_for_month(self, Month):\n",
    "        return self._df[self._df['Month'] == Month][['latitude', 'longitude']]\n",
    "\n",
    "    def _total_sales_for_month(self, Month):\n",
    "        return int(self._df[self._df['Month'] == Month]['Month'].count())\n",
    "\n",
    "    def _total_sales_text_for_month(self, Month):\n",
    "        return '{} historical Home Sales by Month'.format(self._total_sales_for_month(Month))\n",
    "\n",
    "\n",
    "Interactive(sale_month).render()"
   ]
  },
  {
   "cell_type": "code",
   "execution_count": null,
   "id": "c9028af2",
   "metadata": {},
   "outputs": [],
   "source": []
  },
  {
   "cell_type": "code",
   "execution_count": null,
   "id": "f5840910",
   "metadata": {},
   "outputs": [],
   "source": [
    "# sqft = cleaned_data[[\"latest_salemonth\", \"latitude\", 'longitude', \"livingAreaSqFt\"]]\n",
    "# sale_month.rename(columns= {'latest_salemonth': 'Month'}, inplace=True)\n",
    "# sale_month"
   ]
  },
  {
   "cell_type": "code",
   "execution_count": 34,
   "id": "a6ed8297",
   "metadata": {},
   "outputs": [
    {
     "data": {
      "application/vnd.jupyter.widget-view+json": {
       "model_id": "efa98db6795249da8152f45873bcb162",
       "version_major": 2,
       "version_minor": 0
      },
      "text/plain": [
       "Figure(layout=FigureLayout(height='420px'))"
      ]
     },
     "metadata": {},
     "output_type": "display_data"
    }
   ],
   "source": [
    "locations = city_latslong[[\"latitude\", \"longitude\"]]\n",
    "fig = gmaps.figure(map_type='TERRAIN')\n",
    "heatmap_layer = gmaps.heatmap_layer(locations, weights=cleaned_data['livingAreaSqFt']) \n",
    "\n",
    "fig.add_layer(heatmap_layer)\n",
    "# fig.add_layer(gmaps.traffic_layer)\n",
    "fig"
   ]
  },
  {
   "cell_type": "code",
   "execution_count": 35,
   "id": "5788550a",
   "metadata": {},
   "outputs": [
    {
     "data": {
      "text/plain": [
       "Index(['zpid', 'city', 'streetAddress', 'zipcode', 'description', 'latitude',\n",
       "       'longitude', 'propertyTaxRate', 'garageSpaces', 'hasAssociation',\n",
       "       'hasCooling', 'hasGarage', 'hasHeating', 'hasSpa', 'hasView',\n",
       "       'homeType', 'parkingSpaces', 'yearBuilt', 'latestPrice',\n",
       "       'numPriceChanges', 'latest_saledate', 'latest_salemonth',\n",
       "       'latest_saleyear', 'latestPriceSource', 'numOfPhotos',\n",
       "       'numOfAccessibilityFeatures', 'numOfAppliances', 'numOfParkingFeatures',\n",
       "       'numOfPatioAndPorchFeatures', 'numOfSecurityFeatures',\n",
       "       'numOfWaterfrontFeatures', 'numOfWindowFeatures',\n",
       "       'numOfCommunityFeatures', 'lotSizeSqFt', 'livingAreaSqFt',\n",
       "       'numOfPrimarySchools', 'numOfElementarySchools', 'numOfMiddleSchools',\n",
       "       'numOfHighSchools', 'avgSchoolDistance', 'avgSchoolRating',\n",
       "       'avgSchoolSize', 'MedianStudentsPerTeacher', 'numOfBathrooms',\n",
       "       'numOfBedrooms', 'numOfStories', 'homeImage'],\n",
       "      dtype='object')"
      ]
     },
     "execution_count": 35,
     "metadata": {},
     "output_type": "execute_result"
    }
   ],
   "source": [
    "cleaned_data.columns"
   ]
  },
  {
   "cell_type": "code",
   "execution_count": 53,
   "id": "96842dc5",
   "metadata": {},
   "outputs": [
    {
     "data": {
      "application/vnd.jupyter.widget-view+json": {
       "model_id": "bb7c59b8359340c9b807849fc1cba5a4",
       "version_major": 2,
       "version_minor": 0
      },
      "text/plain": [
       "Figure(layout=FigureLayout(height='420px'))"
      ]
     },
     "metadata": {},
     "output_type": "display_data"
    }
   ],
   "source": [
    "# locations = city_latslong[[\"latitude\", \"longitude\"]]\n",
    "# fig = gmaps.figure(map_type='TERRAIN')\n",
    "# heatmap_layer = gmaps.heatmap_layer(locations, weights=cleaned_data['lotSizeSqFt']) \n",
    "\n",
    "# fig.add_layer(heatmap_layer)\n",
    "# # fig.add_layer(gmaps.traffic_layer)\n",
    "# fig"
   ]
  },
  {
   "cell_type": "code",
   "execution_count": null,
   "id": "fc12e0ee",
   "metadata": {},
   "outputs": [],
   "source": [
    "cleaned_data"
   ]
  },
  {
   "cell_type": "code",
   "execution_count": 58,
   "id": "9162aa0d",
   "metadata": {},
   "outputs": [
    {
     "data": {
      "text/plain": [
       "7351484865"
      ]
     },
     "execution_count": 58,
     "metadata": {},
     "output_type": "execute_result"
    }
   ],
   "source": [
    "total_sales = cleaned_data.latestPrice.sum()\n",
    "total_sales"
   ]
  },
  {
   "cell_type": "code",
   "execution_count": null,
   "id": "c3bb8f41",
   "metadata": {},
   "outputs": [],
   "source": []
  },
  {
   "cell_type": "code",
   "execution_count": 59,
   "id": "d12cd6a5",
   "metadata": {},
   "outputs": [
    {
     "data": {
      "text/plain": [
       "14239"
      ]
     },
     "execution_count": 59,
     "metadata": {},
     "output_type": "execute_result"
    }
   ],
   "source": [
    "count_ofhomes = len(cleaned_data)\n",
    "count_ofhomes"
   ]
  },
  {
   "cell_type": "code",
   "execution_count": 62,
   "id": "5e576752",
   "metadata": {},
   "outputs": [
    {
     "data": {
      "text/plain": [
       "516292.216096636"
      ]
     },
     "execution_count": 62,
     "metadata": {},
     "output_type": "execute_result"
    }
   ],
   "source": [
    "average_price = total_sales/count_ofhomes\n",
    "average_price"
   ]
  },
  {
   "cell_type": "code",
   "execution_count": null,
   "id": "5e133ca4",
   "metadata": {},
   "outputs": [],
   "source": []
  }
 ],
 "metadata": {
  "kernelspec": {
   "display_name": "Python 3",
   "language": "python",
   "name": "python3"
  },
  "language_info": {
   "codemirror_mode": {
    "name": "ipython",
    "version": 3
   },
   "file_extension": ".py",
   "mimetype": "text/x-python",
   "name": "python",
   "nbconvert_exporter": "python",
   "pygments_lexer": "ipython3",
   "version": "3.8.8"
  }
 },
 "nbformat": 4,
 "nbformat_minor": 5
}
