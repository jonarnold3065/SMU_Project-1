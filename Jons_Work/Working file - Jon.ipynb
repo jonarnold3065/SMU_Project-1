{
 "cells": [
  {
   "cell_type": "code",
   "execution_count": 1,
   "id": "f63a611b",
   "metadata": {},
   "outputs": [],
   "source": [
    "import pandas as pd\n",
    "import numpy as np\n",
    "import json\n",
    "import gmaps\n",
    "import matplotlib.pyplot as plt\n",
    "import seaborn as sns\n",
    "import scipy.stats as stats\n",
    "import requests\n",
    "from census import Census\n",
    "from config import gkey\n",
    "\n",
    "gmaps.configure(api_key=gkey)\n"
   ]
  },
  {
   "cell_type": "code",
   "execution_count": 2,
   "id": "6af8d29f",
   "metadata": {},
   "outputs": [],
   "source": [
    "# print(json.dumps(geo_data, indent=4, sort_keys=True))"
   ]
  },
  {
   "cell_type": "code",
   "execution_count": 3,
   "id": "2f1549bf",
   "metadata": {},
   "outputs": [],
   "source": [
    "file = \"../Resources/Austin Data Set CSV.csv\"\n",
    "base_df = pd.read_csv(file)\n",
    "\n",
    "# pd.set_option(\"display.max_rows\", 15)\n",
    "\n",
    "# base_df.head()"
   ]
  },
  {
   "cell_type": "code",
   "execution_count": 62,
   "id": "6b91b2c2",
   "metadata": {},
   "outputs": [
    {
     "data": {
      "text/plain": [
       "7779199440"
      ]
     },
     "execution_count": 62,
     "metadata": {},
     "output_type": "execute_result"
    }
   ],
   "source": [
    "total_sales = base_df.latestPrice.sum()\n",
    "total_sales"
   ]
  },
  {
   "cell_type": "code",
   "execution_count": 63,
   "id": "f7592a52",
   "metadata": {},
   "outputs": [
    {
     "data": {
      "text/plain": [
       "15171"
      ]
     },
     "execution_count": 63,
     "metadata": {},
     "output_type": "execute_result"
    }
   ],
   "source": [
    "count_ofhomes = len(base_df)\n",
    "count_ofhomes"
   ]
  },
  {
   "cell_type": "code",
   "execution_count": 64,
   "id": "a9366315",
   "metadata": {},
   "outputs": [
    {
     "data": {
      "text/plain": [
       "512767.7437215741"
      ]
     },
     "execution_count": 64,
     "metadata": {},
     "output_type": "execute_result"
    }
   ],
   "source": [
    "average_price = total_sales/count_ofhomes\n",
    "average_price"
   ]
  },
  {
   "cell_type": "code",
   "execution_count": null,
   "id": "2cbe0591",
   "metadata": {},
   "outputs": [],
   "source": []
  },
  {
   "cell_type": "code",
   "execution_count": 4,
   "id": "770e5a1b",
   "metadata": {
    "scrolled": true
   },
   "outputs": [
    {
     "name": "stdout",
     "output_type": "stream",
     "text": [
      "<class 'pandas.core.frame.DataFrame'>\n",
      "RangeIndex: 15171 entries, 0 to 15170\n",
      "Data columns (total 47 columns):\n",
      " #   Column                      Non-Null Count  Dtype  \n",
      "---  ------                      --------------  -----  \n",
      " 0   zpid                        15171 non-null  int64  \n",
      " 1   city                        15171 non-null  object \n",
      " 2   streetAddress               15171 non-null  object \n",
      " 3   zipcode                     15171 non-null  int64  \n",
      " 4   description                 15171 non-null  object \n",
      " 5   latitude                    15171 non-null  float64\n",
      " 6   longitude                   15171 non-null  float64\n",
      " 7   propertyTaxRate             15171 non-null  float64\n",
      " 8   garageSpaces                15171 non-null  int64  \n",
      " 9   hasAssociation              15171 non-null  bool   \n",
      " 10  hasCooling                  15171 non-null  bool   \n",
      " 11  hasGarage                   15171 non-null  bool   \n",
      " 12  hasHeating                  15171 non-null  bool   \n",
      " 13  hasSpa                      15171 non-null  bool   \n",
      " 14  hasView                     15171 non-null  bool   \n",
      " 15  homeType                    15171 non-null  object \n",
      " 16  parkingSpaces               15171 non-null  int64  \n",
      " 17  yearBuilt                   15171 non-null  int64  \n",
      " 18  latestPrice                 15171 non-null  int64  \n",
      " 19  numPriceChanges             15171 non-null  int64  \n",
      " 20  latest_saledate             15171 non-null  object \n",
      " 21  latest_salemonth            15171 non-null  int64  \n",
      " 22  latest_saleyear             15171 non-null  int64  \n",
      " 23  latestPriceSource           15171 non-null  object \n",
      " 24  numOfPhotos                 15171 non-null  int64  \n",
      " 25  numOfAccessibilityFeatures  15171 non-null  int64  \n",
      " 26  numOfAppliances             15171 non-null  int64  \n",
      " 27  numOfParkingFeatures        15171 non-null  int64  \n",
      " 28  numOfPatioAndPorchFeatures  15171 non-null  int64  \n",
      " 29  numOfSecurityFeatures       15171 non-null  int64  \n",
      " 30  numOfWaterfrontFeatures     15171 non-null  int64  \n",
      " 31  numOfWindowFeatures         15171 non-null  int64  \n",
      " 32  numOfCommunityFeatures      15171 non-null  int64  \n",
      " 33  lotSizeSqFt                 15171 non-null  float64\n",
      " 34  livingAreaSqFt              15171 non-null  int64  \n",
      " 35  numOfPrimarySchools         15171 non-null  int64  \n",
      " 36  numOfElementarySchools      15171 non-null  int64  \n",
      " 37  numOfMiddleSchools          15171 non-null  int64  \n",
      " 38  numOfHighSchools            15171 non-null  int64  \n",
      " 39  avgSchoolDistance           15171 non-null  float64\n",
      " 40  avgSchoolRating             15171 non-null  float64\n",
      " 41  avgSchoolSize               15171 non-null  int64  \n",
      " 42  MedianStudentsPerTeacher    15171 non-null  int64  \n",
      " 43  numOfBathrooms              15171 non-null  float64\n",
      " 44  numOfBedrooms               15171 non-null  int64  \n",
      " 45  numOfStories                15171 non-null  int64  \n",
      " 46  homeImage                   15171 non-null  object \n",
      "dtypes: bool(6), float64(7), int64(27), object(7)\n",
      "memory usage: 4.8+ MB\n"
     ]
    }
   ],
   "source": [
    "base_df.info()"
   ]
  },
  {
   "cell_type": "code",
   "execution_count": 5,
   "id": "af150ce3",
   "metadata": {},
   "outputs": [
    {
     "data": {
      "text/plain": [
       "city              numOfPrimarySchools  numOfElementarySchools  numOfMiddleSchools  numOfHighSchools\n",
       "austin            1                    0                       1                   1                   13447\n",
       "                                                                                   2                     468\n",
       "                  0                    1                       1                   1                     221\n",
       "                                                               3                   0                     213\n",
       "                  1                    0                       1                   0                     213\n",
       "                  0                    1                       1                   0                     178\n",
       "                                       0                       2                   0                     159\n",
       "del valle         1                    0                       1                   1                      86\n",
       "austin            0                    2                       1                   1                      59\n",
       "                                       0                       0                   0                      51\n",
       "pflugerville      1                    0                       1                   1                      31\n",
       "driftwood         0                    0                       2                   0                       6\n",
       "                  1                    0                       1                   1                       5\n",
       "dripping springs  1                    0                       1                   1                       5\n",
       "pflugerville      0                    2                       1                   1                       5\n",
       "austin            1                    0                       2                   0                       4\n",
       "                  0                    1                       1                   2                       3\n",
       "                                       0                       1                   1                       3\n",
       "manchaca          1                    0                       1                   1                       3\n",
       "manor             1                    0                       1                   2                       3\n",
       "                                                                                   1                       2\n",
       "west lake hills   0                    1                       1                   0                       2\n",
       "austin            2                    0                       2                   1                       1\n",
       "driftwood         1                    0                       2                   0                       1\n",
       "manor             0                    1                       1                   2                       1\n",
       "road              1                    0                       1                   1                       1\n",
       "dtype: int64"
      ]
     },
     "execution_count": 5,
     "metadata": {},
     "output_type": "execute_result"
    }
   ],
   "source": [
    "total_schools = base_df[[\"city\", \"numOfPrimarySchools\", \"numOfElementarySchools\", \"numOfMiddleSchools\", \"numOfHighSchools\"]]\n",
    "total_schools.value_counts()"
   ]
  },
  {
   "cell_type": "code",
   "execution_count": 53,
   "id": "d024b6d1",
   "metadata": {},
   "outputs": [
    {
     "data": {
      "text/plain": [
       "latest_salemonth  numPriceChanges\n",
       "6                 1                  587\n",
       "7                 1                  542\n",
       "5                 1                  533\n",
       "4                 1                  500\n",
       "8                 1                  464\n",
       "                                    ... \n",
       "                  16                   1\n",
       "                  17                   1\n",
       "                  18                   1\n",
       "10                14                   1\n",
       "12                22                   1\n",
       "Length: 201, dtype: int64"
      ]
     },
     "execution_count": 53,
     "metadata": {},
     "output_type": "execute_result"
    }
   ],
   "source": [
    "count_price_change = base_df[[\"latest_salemonth\", \"numPriceChanges\"]]\n",
    "count_price_change.value_counts()"
   ]
  },
  {
   "cell_type": "code",
   "execution_count": 58,
   "id": "b1956729",
   "metadata": {},
   "outputs": [
    {
     "data": {
      "image/png": "[encoded data removed]",
      "text/plain": [
       "<Figure size 800x480 with 1 Axes>"
      ]
     },
     "metadata": {},
     "output_type": "display_data"
    }
   ],
   "source": [
    "\n",
    "x = count_price_change[\"numPriceChanges\"]\n",
    "y = count_price_change[\"latest_salemonth\"]\n",
    "colors= range(count_price_change[\"latest_salemonth\"].count())\n",
    "plt.figure(figsize=(10, 6), dpi= 80, facecolor='w', edgecolor='k')\n",
    "plt.scatter(x, y, s=15, c=colors, alpha=0.5)\n",
    "plt.xlabel(\"Month\")\n",
    "plt.ylabel(\"Count of price changes\")\n",
    "plt.title(\"Scatterplot ofrate of price change by month\") \n",
    "plt.show()"
   ]
  },
  {
   "cell_type": "code",
   "execution_count": 61,
   "id": "8b02e113",
   "metadata": {},
   "outputs": [
    {
     "data": {
      "text/plain": [
       "Single Family            14241\n",
       "Condo                      470\n",
       "Townhouse                  174\n",
       "Multiple Occupancy          96\n",
       "Vacant Land                 83\n",
       "Apartment                   37\n",
       "Residential                 37\n",
       "Mobile / Manufactured       17\n",
       "MultiFamily                 10\n",
       "Other                        6\n",
       "Name: homeType, dtype: int64"
      ]
     },
     "execution_count": 61,
     "metadata": {},
     "output_type": "execute_result"
    }
   ],
   "source": [
    "base_df.homeType.value_counts()\n",
    "# make bar chart of these values and then tell the story, becuase \n",
    "# of this slant in the data we focused only on single family homes.  then check single fmaily homes for outliers \n",
    "# this answers one of the questions "
   ]
  },
  {
   "cell_type": "code",
   "execution_count": 7,
   "id": "0d73144f",
   "metadata": {},
   "outputs": [
    {
     "data": {
      "image/png": "[encoded data removed]",
      "text/plain": [
       "<Figure size 720x432 with 1 Axes>"
      ]
     },
     "metadata": {
      "needs_background": "light"
     },
     "output_type": "display_data"
    }
   ],
   "source": [
    "plt.figure(figsize= (10,6))\n",
    "plt.hist(base_df.homeType)\n",
    "plt.ylabel('Count')\n",
    "plt.xlabel(\"homeType\")\n",
    "plt.title(\"Home Type Histogram\", fontweight=\"bold\", fontsize=16)\n",
    "# plt.set_xtick(labels=base_df.homeType.unique(),rotation=90)\n",
    "plt.show()\n"
   ]
  },
  {
   "cell_type": "code",
   "execution_count": 8,
   "id": "64259137",
   "metadata": {},
   "outputs": [
    {
     "data": {
      "text/plain": [
       "14802    2020\n",
       "13910    2020\n",
       "9475     2020\n",
       "9829     2020\n",
       "14852    2020\n",
       "         ... \n",
       "12750    1907\n",
       "9324     1907\n",
       "9512     1907\n",
       "9373     1906\n",
       "12931    1905\n",
       "Name: yearBuilt, Length: 15171, dtype: int64"
      ]
     },
     "execution_count": 8,
     "metadata": {},
     "output_type": "execute_result"
    }
   ],
   "source": [
    "base_df.yearBuilt.sort_values(ascending =False) \n",
    "# research sort codes  play with this "
   ]
  },
  {
   "cell_type": "code",
   "execution_count": 9,
   "id": "c4f9bf51",
   "metadata": {},
   "outputs": [],
   "source": [
    "#  base_df.describe()\n",
    "\n",
    "# we should rule out the outliers, below is a breakout that shows some homes have 27 rooms and 20 bathrooms.  "
   ]
  },
  {
   "cell_type": "code",
   "execution_count": 10,
   "id": "2145a085",
   "metadata": {},
   "outputs": [
    {
     "data": {
      "text/plain": [
       "1     5029\n",
       "2     3345\n",
       "3     2193\n",
       "4     1557\n",
       "5     1004\n",
       "6      688\n",
       "7      440\n",
       "8      297\n",
       "9      180\n",
       "10     136\n",
       "12      84\n",
       "11      81\n",
       "13      51\n",
       "14      33\n",
       "15      22\n",
       "16      11\n",
       "17       7\n",
       "18       5\n",
       "19       4\n",
       "22       2\n",
       "20       1\n",
       "23       1\n",
       "Name: numPriceChanges, dtype: int64"
      ]
     },
     "execution_count": 10,
     "metadata": {},
     "output_type": "execute_result"
    }
   ],
   "source": [
    "# base_df.numOfBathrooms.value_counts()\n",
    "base_df.numPriceChanges.value_counts()\n",
    "# there are two entries with an unusual amount of bathrooms, one with 13 and one with 27, outliers that should be removed? "
   ]
  },
  {
   "cell_type": "code",
   "execution_count": 11,
   "id": "e8f57884",
   "metadata": {},
   "outputs": [
    {
     "data": {
      "text/plain": [
       "austin              15020\n",
       "del valle              86\n",
       "pflugerville           36\n",
       "driftwood              12\n",
       "manor                   6\n",
       "dripping springs        5\n",
       "manchaca                3\n",
       "west lake hills         2\n",
       "road                    1\n",
       "Name: city, dtype: int64"
      ]
     },
     "execution_count": 11,
     "metadata": {},
     "output_type": "execute_result"
    }
   ],
   "source": [
    "base_df.city.value_counts()\n",
    "# same as above, due to data set "
   ]
  },
  {
   "cell_type": "code",
   "execution_count": 12,
   "id": "49c3ab07",
   "metadata": {},
   "outputs": [
    {
     "data": {
      "text/plain": [
       "27.0"
      ]
     },
     "execution_count": 12,
     "metadata": {},
     "output_type": "execute_result"
    }
   ],
   "source": [
    "base_df.describe\n",
    "base_df[\"numOfBathrooms\"].max()\n",
    "\n"
   ]
  },
  {
   "cell_type": "code",
   "execution_count": 13,
   "id": "77e7abb9",
   "metadata": {},
   "outputs": [
    {
     "data": {
      "text/html": [
       "<div>\n",
       "<style scoped>\n",
       "    .dataframe tbody tr th:only-of-type {\n",
       "        vertical-align: middle;\n",
       "    }\n",
       "\n",
       "    .dataframe tbody tr th {\n",
       "        vertical-align: top;\n",
       "    }\n",
       "\n",
       "    .dataframe thead th {\n",
       "        text-align: right;\n",
       "    }\n",
       "</style>\n",
       "<table border=\"1\" class=\"dataframe\">\n",
       "  <thead>\n",
       "    <tr style=\"text-align: right;\">\n",
       "      <th></th>\n",
       "      <th>zpid</th>\n",
       "      <th>city</th>\n",
       "      <th>streetAddress</th>\n",
       "      <th>zipcode</th>\n",
       "      <th>description</th>\n",
       "      <th>latitude</th>\n",
       "      <th>longitude</th>\n",
       "      <th>propertyTaxRate</th>\n",
       "      <th>garageSpaces</th>\n",
       "      <th>hasAssociation</th>\n",
       "      <th>...</th>\n",
       "      <th>numOfMiddleSchools</th>\n",
       "      <th>numOfHighSchools</th>\n",
       "      <th>avgSchoolDistance</th>\n",
       "      <th>avgSchoolRating</th>\n",
       "      <th>avgSchoolSize</th>\n",
       "      <th>MedianStudentsPerTeacher</th>\n",
       "      <th>numOfBathrooms</th>\n",
       "      <th>numOfBedrooms</th>\n",
       "      <th>numOfStories</th>\n",
       "      <th>homeImage</th>\n",
       "    </tr>\n",
       "  </thead>\n",
       "  <tbody>\n",
       "    <tr>\n",
       "      <th>0</th>\n",
       "      <td>111373431</td>\n",
       "      <td>pflugerville</td>\n",
       "      <td>14424 Lake Victor Dr</td>\n",
       "      <td>78660</td>\n",
       "      <td>14424 Lake Victor Dr, Pflugerville, TX 78660 i...</td>\n",
       "      <td>30.430632</td>\n",
       "      <td>-97.663078</td>\n",
       "      <td>1.98</td>\n",
       "      <td>2</td>\n",
       "      <td>True</td>\n",
       "      <td>...</td>\n",
       "      <td>1</td>\n",
       "      <td>1</td>\n",
       "      <td>1.266667</td>\n",
       "      <td>2.666667</td>\n",
       "      <td>1063</td>\n",
       "      <td>14</td>\n",
       "      <td>3.0</td>\n",
       "      <td>4</td>\n",
       "      <td>2</td>\n",
       "      <td>111373431_ffce26843283d3365c11d81b8e6bdc6f-p_f...</td>\n",
       "    </tr>\n",
       "    <tr>\n",
       "      <th>1</th>\n",
       "      <td>120900430</td>\n",
       "      <td>pflugerville</td>\n",
       "      <td>1104 Strickling Dr</td>\n",
       "      <td>78660</td>\n",
       "      <td>Absolutely GORGEOUS 4 Bedroom home with 2 full...</td>\n",
       "      <td>30.432672</td>\n",
       "      <td>-97.661697</td>\n",
       "      <td>1.98</td>\n",
       "      <td>2</td>\n",
       "      <td>True</td>\n",
       "      <td>...</td>\n",
       "      <td>1</td>\n",
       "      <td>1</td>\n",
       "      <td>1.400000</td>\n",
       "      <td>2.666667</td>\n",
       "      <td>1063</td>\n",
       "      <td>14</td>\n",
       "      <td>2.0</td>\n",
       "      <td>4</td>\n",
       "      <td>1</td>\n",
       "      <td>120900430_8255c127be8dcf0a1a18b7563d987088-p_f...</td>\n",
       "    </tr>\n",
       "    <tr>\n",
       "      <th>2</th>\n",
       "      <td>2084491383</td>\n",
       "      <td>pflugerville</td>\n",
       "      <td>1408 Fort Dessau Rd</td>\n",
       "      <td>78660</td>\n",
       "      <td>Under construction - estimated completion in A...</td>\n",
       "      <td>30.409748</td>\n",
       "      <td>-97.639771</td>\n",
       "      <td>1.98</td>\n",
       "      <td>0</td>\n",
       "      <td>True</td>\n",
       "      <td>...</td>\n",
       "      <td>1</td>\n",
       "      <td>1</td>\n",
       "      <td>1.200000</td>\n",
       "      <td>3.000000</td>\n",
       "      <td>1108</td>\n",
       "      <td>14</td>\n",
       "      <td>2.0</td>\n",
       "      <td>3</td>\n",
       "      <td>1</td>\n",
       "      <td>2084491383_a2ad649e1a7a098111dcea084a11c855-p_...</td>\n",
       "    </tr>\n",
       "    <tr>\n",
       "      <th>3</th>\n",
       "      <td>120901374</td>\n",
       "      <td>pflugerville</td>\n",
       "      <td>1025 Strickling Dr</td>\n",
       "      <td>78660</td>\n",
       "      <td>Absolutely darling one story home in charming ...</td>\n",
       "      <td>30.432112</td>\n",
       "      <td>-97.661659</td>\n",
       "      <td>1.98</td>\n",
       "      <td>2</td>\n",
       "      <td>True</td>\n",
       "      <td>...</td>\n",
       "      <td>1</td>\n",
       "      <td>1</td>\n",
       "      <td>1.400000</td>\n",
       "      <td>2.666667</td>\n",
       "      <td>1063</td>\n",
       "      <td>14</td>\n",
       "      <td>2.0</td>\n",
       "      <td>3</td>\n",
       "      <td>1</td>\n",
       "      <td>120901374_b469367a619da85b1f5ceb69b675d88e-p_f...</td>\n",
       "    </tr>\n",
       "    <tr>\n",
       "      <th>4</th>\n",
       "      <td>60134862</td>\n",
       "      <td>pflugerville</td>\n",
       "      <td>15005 Donna Jane Loop</td>\n",
       "      <td>78660</td>\n",
       "      <td>Brimming with appeal &amp; warm livability! Sleek ...</td>\n",
       "      <td>30.437368</td>\n",
       "      <td>-97.656860</td>\n",
       "      <td>1.98</td>\n",
       "      <td>0</td>\n",
       "      <td>True</td>\n",
       "      <td>...</td>\n",
       "      <td>1</td>\n",
       "      <td>1</td>\n",
       "      <td>1.133333</td>\n",
       "      <td>4.000000</td>\n",
       "      <td>1223</td>\n",
       "      <td>14</td>\n",
       "      <td>3.0</td>\n",
       "      <td>3</td>\n",
       "      <td>2</td>\n",
       "      <td>60134862_b1a48a3df3f111e005bb913873e98ce2-p_f.jpg</td>\n",
       "    </tr>\n",
       "    <tr>\n",
       "      <th>...</th>\n",
       "      <td>...</td>\n",
       "      <td>...</td>\n",
       "      <td>...</td>\n",
       "      <td>...</td>\n",
       "      <td>...</td>\n",
       "      <td>...</td>\n",
       "      <td>...</td>\n",
       "      <td>...</td>\n",
       "      <td>...</td>\n",
       "      <td>...</td>\n",
       "      <td>...</td>\n",
       "      <td>...</td>\n",
       "      <td>...</td>\n",
       "      <td>...</td>\n",
       "      <td>...</td>\n",
       "      <td>...</td>\n",
       "      <td>...</td>\n",
       "      <td>...</td>\n",
       "      <td>...</td>\n",
       "      <td>...</td>\n",
       "      <td>...</td>\n",
       "    </tr>\n",
       "    <tr>\n",
       "      <th>15166</th>\n",
       "      <td>29512934</td>\n",
       "      <td>austin</td>\n",
       "      <td>905 Silcantu Dr</td>\n",
       "      <td>78748</td>\n",
       "      <td>Not for rent!\\r\\n\\r\\nBeautiful one story home ...</td>\n",
       "      <td>30.161997</td>\n",
       "      <td>-97.816345</td>\n",
       "      <td>1.98</td>\n",
       "      <td>6</td>\n",
       "      <td>False</td>\n",
       "      <td>...</td>\n",
       "      <td>1</td>\n",
       "      <td>1</td>\n",
       "      <td>0.900000</td>\n",
       "      <td>3.333333</td>\n",
       "      <td>1424</td>\n",
       "      <td>14</td>\n",
       "      <td>2.0</td>\n",
       "      <td>3</td>\n",
       "      <td>1</td>\n",
       "      <td>29512934_ff9b6eefa7e2eb4e9ef983da13a23098-p_f.jpg</td>\n",
       "    </tr>\n",
       "    <tr>\n",
       "      <th>15167</th>\n",
       "      <td>241937773</td>\n",
       "      <td>austin</td>\n",
       "      <td>1413 Waterloo Shore Ln UNIT 12</td>\n",
       "      <td>78741</td>\n",
       "      <td>This contemporary three-story detached condo h...</td>\n",
       "      <td>30.240223</td>\n",
       "      <td>-97.772835</td>\n",
       "      <td>1.98</td>\n",
       "      <td>2</td>\n",
       "      <td>True</td>\n",
       "      <td>...</td>\n",
       "      <td>1</td>\n",
       "      <td>1</td>\n",
       "      <td>1.900000</td>\n",
       "      <td>6.666667</td>\n",
       "      <td>1226</td>\n",
       "      <td>16</td>\n",
       "      <td>4.0</td>\n",
       "      <td>3</td>\n",
       "      <td>3</td>\n",
       "      <td>241937773_66d3e483bd783eac5a52ff5f938d2a2e-p_f...</td>\n",
       "    </tr>\n",
       "    <tr>\n",
       "      <th>15168</th>\n",
       "      <td>29473281</td>\n",
       "      <td>austin</td>\n",
       "      <td>2206 S 3rd St</td>\n",
       "      <td>78704</td>\n",
       "      <td>Original bungalow with a modern addition. Larg...</td>\n",
       "      <td>30.244835</td>\n",
       "      <td>-97.761124</td>\n",
       "      <td>1.98</td>\n",
       "      <td>2</td>\n",
       "      <td>False</td>\n",
       "      <td>...</td>\n",
       "      <td>1</td>\n",
       "      <td>1</td>\n",
       "      <td>0.800000</td>\n",
       "      <td>5.000000</td>\n",
       "      <td>889</td>\n",
       "      <td>13</td>\n",
       "      <td>3.0</td>\n",
       "      <td>3</td>\n",
       "      <td>2</td>\n",
       "      <td>29473281_9e90ec4652c4b3b6592a7fdd09f1ea6d-p_f.jpg</td>\n",
       "    </tr>\n",
       "    <tr>\n",
       "      <th>15169</th>\n",
       "      <td>29392029</td>\n",
       "      <td>austin</td>\n",
       "      <td>2000 Chestnut Ave</td>\n",
       "      <td>78722</td>\n",
       "      <td>So many options at this address in the eclecti...</td>\n",
       "      <td>30.281569</td>\n",
       "      <td>-97.717789</td>\n",
       "      <td>1.98</td>\n",
       "      <td>0</td>\n",
       "      <td>False</td>\n",
       "      <td>...</td>\n",
       "      <td>1</td>\n",
       "      <td>1</td>\n",
       "      <td>1.300000</td>\n",
       "      <td>6.666667</td>\n",
       "      <td>1057</td>\n",
       "      <td>15</td>\n",
       "      <td>2.0</td>\n",
       "      <td>4</td>\n",
       "      <td>1</td>\n",
       "      <td>29392029_a9a8306ea363d23f37d91d37975a1b96-p_f.jpg</td>\n",
       "    </tr>\n",
       "    <tr>\n",
       "      <th>15170</th>\n",
       "      <td>29390174</td>\n",
       "      <td>austin</td>\n",
       "      <td>3110 E 12th St</td>\n",
       "      <td>78702</td>\n",
       "      <td>3110 E 12th St, Austin, TX 78702 is a single f...</td>\n",
       "      <td>30.276930</td>\n",
       "      <td>-97.701523</td>\n",
       "      <td>1.98</td>\n",
       "      <td>1</td>\n",
       "      <td>False</td>\n",
       "      <td>...</td>\n",
       "      <td>1</td>\n",
       "      <td>1</td>\n",
       "      <td>1.900000</td>\n",
       "      <td>6.666667</td>\n",
       "      <td>1057</td>\n",
       "      <td>15</td>\n",
       "      <td>1.0</td>\n",
       "      <td>2</td>\n",
       "      <td>1</td>\n",
       "      <td>29390174_9580c60e14870498b2ce98b5f889471e-p_f.jpg</td>\n",
       "    </tr>\n",
       "  </tbody>\n",
       "</table>\n",
       "<p>15171 rows × 47 columns</p>\n",
       "</div>"
      ],
      "text/plain": [
       "             zpid          city                   streetAddress  zipcode  \\\n",
       "0       111373431  pflugerville            14424 Lake Victor Dr    78660   \n",
       "1       120900430  pflugerville              1104 Strickling Dr    78660   \n",
       "2      2084491383  pflugerville             1408 Fort Dessau Rd    78660   \n",
       "3       120901374  pflugerville              1025 Strickling Dr    78660   \n",
       "4        60134862  pflugerville           15005 Donna Jane Loop    78660   \n",
       "...           ...           ...                             ...      ...   \n",
       "15166    29512934        austin                 905 Silcantu Dr    78748   \n",
       "15167   241937773        austin  1413 Waterloo Shore Ln UNIT 12    78741   \n",
       "15168    29473281        austin                   2206 S 3rd St    78704   \n",
       "15169    29392029        austin               2000 Chestnut Ave    78722   \n",
       "15170    29390174        austin                  3110 E 12th St    78702   \n",
       "\n",
       "                                             description   latitude  \\\n",
       "0      14424 Lake Victor Dr, Pflugerville, TX 78660 i...  30.430632   \n",
       "1      Absolutely GORGEOUS 4 Bedroom home with 2 full...  30.432672   \n",
       "2      Under construction - estimated completion in A...  30.409748   \n",
       "3      Absolutely darling one story home in charming ...  30.432112   \n",
       "4      Brimming with appeal & warm livability! Sleek ...  30.437368   \n",
       "...                                                  ...        ...   \n",
       "15166  Not for rent!\\r\\n\\r\\nBeautiful one story home ...  30.161997   \n",
       "15167  This contemporary three-story detached condo h...  30.240223   \n",
       "15168  Original bungalow with a modern addition. Larg...  30.244835   \n",
       "15169  So many options at this address in the eclecti...  30.281569   \n",
       "15170  3110 E 12th St, Austin, TX 78702 is a single f...  30.276930   \n",
       "\n",
       "       longitude  propertyTaxRate  garageSpaces  hasAssociation  ...  \\\n",
       "0     -97.663078             1.98             2            True  ...   \n",
       "1     -97.661697             1.98             2            True  ...   \n",
       "2     -97.639771             1.98             0            True  ...   \n",
       "3     -97.661659             1.98             2            True  ...   \n",
       "4     -97.656860             1.98             0            True  ...   \n",
       "...          ...              ...           ...             ...  ...   \n",
       "15166 -97.816345             1.98             6           False  ...   \n",
       "15167 -97.772835             1.98             2            True  ...   \n",
       "15168 -97.761124             1.98             2           False  ...   \n",
       "15169 -97.717789             1.98             0           False  ...   \n",
       "15170 -97.701523             1.98             1           False  ...   \n",
       "\n",
       "       numOfMiddleSchools  numOfHighSchools  avgSchoolDistance  \\\n",
       "0                       1                 1           1.266667   \n",
       "1                       1                 1           1.400000   \n",
       "2                       1                 1           1.200000   \n",
       "3                       1                 1           1.400000   \n",
       "4                       1                 1           1.133333   \n",
       "...                   ...               ...                ...   \n",
       "15166                   1                 1           0.900000   \n",
       "15167                   1                 1           1.900000   \n",
       "15168                   1                 1           0.800000   \n",
       "15169                   1                 1           1.300000   \n",
       "15170                   1                 1           1.900000   \n",
       "\n",
       "       avgSchoolRating  avgSchoolSize MedianStudentsPerTeacher  \\\n",
       "0             2.666667           1063                       14   \n",
       "1             2.666667           1063                       14   \n",
       "2             3.000000           1108                       14   \n",
       "3             2.666667           1063                       14   \n",
       "4             4.000000           1223                       14   \n",
       "...                ...            ...                      ...   \n",
       "15166         3.333333           1424                       14   \n",
       "15167         6.666667           1226                       16   \n",
       "15168         5.000000            889                       13   \n",
       "15169         6.666667           1057                       15   \n",
       "15170         6.666667           1057                       15   \n",
       "\n",
       "       numOfBathrooms  numOfBedrooms  numOfStories  \\\n",
       "0                 3.0              4             2   \n",
       "1                 2.0              4             1   \n",
       "2                 2.0              3             1   \n",
       "3                 2.0              3             1   \n",
       "4                 3.0              3             2   \n",
       "...               ...            ...           ...   \n",
       "15166             2.0              3             1   \n",
       "15167             4.0              3             3   \n",
       "15168             3.0              3             2   \n",
       "15169             2.0              4             1   \n",
       "15170             1.0              2             1   \n",
       "\n",
       "                                               homeImage  \n",
       "0      111373431_ffce26843283d3365c11d81b8e6bdc6f-p_f...  \n",
       "1      120900430_8255c127be8dcf0a1a18b7563d987088-p_f...  \n",
       "2      2084491383_a2ad649e1a7a098111dcea084a11c855-p_...  \n",
       "3      120901374_b469367a619da85b1f5ceb69b675d88e-p_f...  \n",
       "4      60134862_b1a48a3df3f111e005bb913873e98ce2-p_f.jpg  \n",
       "...                                                  ...  \n",
       "15166  29512934_ff9b6eefa7e2eb4e9ef983da13a23098-p_f.jpg  \n",
       "15167  241937773_66d3e483bd783eac5a52ff5f938d2a2e-p_f...  \n",
       "15168  29473281_9e90ec4652c4b3b6592a7fdd09f1ea6d-p_f.jpg  \n",
       "15169  29392029_a9a8306ea363d23f37d91d37975a1b96-p_f.jpg  \n",
       "15170  29390174_9580c60e14870498b2ce98b5f889471e-p_f.jpg  \n",
       "\n",
       "[15171 rows x 47 columns]"
      ]
     },
     "execution_count": 13,
     "metadata": {},
     "output_type": "execute_result"
    }
   ],
   "source": [
    "base_df"
   ]
  },
  {
   "cell_type": "code",
   "execution_count": 14,
   "id": "2d322a73",
   "metadata": {},
   "outputs": [
    {
     "data": {
      "text/plain": [
       "0        3.0\n",
       "1        2.0\n",
       "2        2.0\n",
       "3        2.0\n",
       "4        3.0\n",
       "        ... \n",
       "15166    2.0\n",
       "15167    4.0\n",
       "15168    3.0\n",
       "15169    2.0\n",
       "15170    1.0\n",
       "Name: numOfBathrooms, Length: 15170, dtype: float64"
      ]
     },
     "execution_count": 14,
     "metadata": {},
     "output_type": "execute_result"
    }
   ],
   "source": [
    "mask = base_df.numOfBathrooms != 27.0\n",
    "new1 = base_df[mask]\n",
    "new1.numOfBathrooms"
   ]
  },
  {
   "cell_type": "code",
   "execution_count": 15,
   "id": "f960af4f",
   "metadata": {},
   "outputs": [
    {
     "data": {
      "text/plain": [
       "0        3.0\n",
       "1        2.0\n",
       "2        2.0\n",
       "3        2.0\n",
       "4        3.0\n",
       "        ... \n",
       "15166    2.0\n",
       "15167    4.0\n",
       "15168    3.0\n",
       "15169    2.0\n",
       "15170    1.0\n",
       "Name: numOfBathrooms, Length: 15170, dtype: float64"
      ]
     },
     "execution_count": 15,
     "metadata": {},
     "output_type": "execute_result"
    }
   ],
   "source": [
    "mask = base_df.lotSizeSqFt != 1508482800.0\n",
    "new = base_df[mask]\n",
    "new.numOfBathrooms"
   ]
  },
  {
   "cell_type": "code",
   "execution_count": 16,
   "id": "5f38c6aa",
   "metadata": {},
   "outputs": [
    {
     "data": {
      "text/plain": [
       "0        3.0\n",
       "1        2.0\n",
       "2        2.0\n",
       "3        2.0\n",
       "4        3.0\n",
       "        ... \n",
       "15166    2.0\n",
       "15167    4.0\n",
       "15168    3.0\n",
       "15169    2.0\n",
       "15170    1.0\n",
       "Name: numOfBathrooms, Length: 15169, dtype: float64"
      ]
     },
     "execution_count": 16,
     "metadata": {},
     "output_type": "execute_result"
    }
   ],
   "source": [
    "mask = new.numOfBathrooms != 27.0\n",
    "new1 = new[mask]\n",
    "new1.numOfBathrooms"
   ]
  },
  {
   "cell_type": "code",
   "execution_count": 17,
   "id": "d9791286",
   "metadata": {},
   "outputs": [
    {
     "data": {
      "text/plain": [
       "Single Family    14239\n",
       "Name: homeType, dtype: int64"
      ]
     },
     "execution_count": 17,
     "metadata": {},
     "output_type": "execute_result"
    }
   ],
   "source": [
    "mask = new1.homeType == \"Single Family\"\n",
    "cleaned_data = new1[mask]\n",
    "cleaned_data.homeType.value_counts()"
   ]
  },
  {
   "cell_type": "code",
   "execution_count": 18,
   "id": "acf97f00",
   "metadata": {},
   "outputs": [
    {
     "data": {
      "text/html": [
       "<div>\n",
       "<style scoped>\n",
       "    .dataframe tbody tr th:only-of-type {\n",
       "        vertical-align: middle;\n",
       "    }\n",
       "\n",
       "    .dataframe tbody tr th {\n",
       "        vertical-align: top;\n",
       "    }\n",
       "\n",
       "    .dataframe thead th {\n",
       "        text-align: right;\n",
       "    }\n",
       "</style>\n",
       "<table border=\"1\" class=\"dataframe\">\n",
       "  <thead>\n",
       "    <tr style=\"text-align: right;\">\n",
       "      <th></th>\n",
       "      <th>zipcode</th>\n",
       "      <th>latestPrice</th>\n",
       "      <th>lotSizeSqFt</th>\n",
       "      <th>livingAreaSqFt</th>\n",
       "      <th>numOfBedrooms</th>\n",
       "      <th>numOfBathrooms</th>\n",
       "    </tr>\n",
       "  </thead>\n",
       "  <tbody>\n",
       "    <tr>\n",
       "      <th>0</th>\n",
       "      <td>78660</td>\n",
       "      <td>305000</td>\n",
       "      <td>6011.0</td>\n",
       "      <td>2601</td>\n",
       "      <td>4</td>\n",
       "      <td>3.0</td>\n",
       "    </tr>\n",
       "    <tr>\n",
       "      <th>1</th>\n",
       "      <td>78660</td>\n",
       "      <td>295000</td>\n",
       "      <td>6185.0</td>\n",
       "      <td>1768</td>\n",
       "      <td>4</td>\n",
       "      <td>2.0</td>\n",
       "    </tr>\n",
       "    <tr>\n",
       "      <th>2</th>\n",
       "      <td>78660</td>\n",
       "      <td>256125</td>\n",
       "      <td>7840.0</td>\n",
       "      <td>1478</td>\n",
       "      <td>3</td>\n",
       "      <td>2.0</td>\n",
       "    </tr>\n",
       "    <tr>\n",
       "      <th>3</th>\n",
       "      <td>78660</td>\n",
       "      <td>240000</td>\n",
       "      <td>6098.0</td>\n",
       "      <td>1678</td>\n",
       "      <td>3</td>\n",
       "      <td>2.0</td>\n",
       "    </tr>\n",
       "    <tr>\n",
       "      <th>4</th>\n",
       "      <td>78660</td>\n",
       "      <td>239900</td>\n",
       "      <td>6708.0</td>\n",
       "      <td>2132</td>\n",
       "      <td>3</td>\n",
       "      <td>3.0</td>\n",
       "    </tr>\n",
       "  </tbody>\n",
       "</table>\n",
       "</div>"
      ],
      "text/plain": [
       "   zipcode  latestPrice  lotSizeSqFt  livingAreaSqFt  numOfBedrooms  \\\n",
       "0    78660       305000       6011.0            2601              4   \n",
       "1    78660       295000       6185.0            1768              4   \n",
       "2    78660       256125       7840.0            1478              3   \n",
       "3    78660       240000       6098.0            1678              3   \n",
       "4    78660       239900       6708.0            2132              3   \n",
       "\n",
       "   numOfBathrooms  \n",
       "0             3.0  \n",
       "1             2.0  \n",
       "2             2.0  \n",
       "3             2.0  \n",
       "4             3.0  "
      ]
     },
     "execution_count": 18,
     "metadata": {},
     "output_type": "execute_result"
    }
   ],
   "source": [
    "\n",
    "\n",
    "avg_byzip = base_df[[\"zipcode\", \"latestPrice\", \"lotSizeSqFt\",\n",
    "                           \"livingAreaSqFt\", \"numOfBedrooms\", \"numOfBathrooms\"]]\n",
    "avg_byzip.head()\n",
    "\n"
   ]
  },
  {
   "cell_type": "code",
   "execution_count": 19,
   "id": "844b41b8",
   "metadata": {},
   "outputs": [],
   "source": [
    "#my attempt at getting the average price by zipcode \n",
    "zipgroup = avg_byzip.groupby([\"zipcode\"])\n",
    "\n",
    "zip_copmarison = zipgroup.mean()\n",
    "# zip_copmarison"
   ]
  },
  {
   "cell_type": "code",
   "execution_count": 20,
   "id": "4617193f",
   "metadata": {},
   "outputs": [
    {
     "data": {
      "text/plain": [
       "array([2019, 2020, 2018, 2021], dtype=int64)"
      ]
     },
     "execution_count": 20,
     "metadata": {},
     "output_type": "execute_result"
    }
   ],
   "source": [
    "cleaned_data['latest_saleyear'].unique()\n"
   ]
  },
  {
   "cell_type": "code",
   "execution_count": 21,
   "id": "24682b54",
   "metadata": {},
   "outputs": [
    {
     "data": {
      "text/plain": [
       "'9/9/2020'"
      ]
     },
     "execution_count": 21,
     "metadata": {},
     "output_type": "execute_result"
    }
   ],
   "source": [
    "cleaned_data['latest_saledate'].max()"
   ]
  },
  {
   "cell_type": "code",
   "execution_count": 22,
   "id": "0491f423",
   "metadata": {},
   "outputs": [
    {
     "data": {
      "text/plain": [
       "array([2019, 2020, 2018, 2021], dtype=int64)"
      ]
     },
     "execution_count": 22,
     "metadata": {},
     "output_type": "execute_result"
    }
   ],
   "source": [
    "cleaned_data['latest_saleyear'].unique()"
   ]
  },
  {
   "cell_type": "code",
   "execution_count": 23,
   "id": "e48726cd",
   "metadata": {},
   "outputs": [
    {
     "data": {
      "text/plain": [
       "2020    5053\n",
       "2019    4992\n",
       "2018    4118\n",
       "2021      76\n",
       "Name: latest_saleyear, dtype: int64"
      ]
     },
     "execution_count": 23,
     "metadata": {},
     "output_type": "execute_result"
    }
   ],
   "source": [
    "yearly_sales = cleaned_data['latest_saleyear'].value_counts()\n",
    "yearly_sales"
   ]
  },
  {
   "cell_type": "code",
   "execution_count": 24,
   "id": "91cbf86f",
   "metadata": {},
   "outputs": [
    {
     "data": {
      "text/plain": [
       "latest_saleyear\n",
       "2018    490919.884167\n",
       "2019    499518.539062\n",
       "2020    551639.206412\n",
       "2021    642727.960526\n",
       "Name: latestPrice, dtype: float64"
      ]
     },
     "execution_count": 24,
     "metadata": {},
     "output_type": "execute_result"
    }
   ],
   "source": [
    "avg_yearly_saleprice = cleaned_data.groupby(\"latest_saleyear\").latestPrice.mean()\n",
    "avg_yearly_saleprice"
   ]
  },
  {
   "cell_type": "code",
   "execution_count": 25,
   "id": "321dcc6b",
   "metadata": {},
   "outputs": [],
   "source": [
    "sns.set_theme(style=\"dark\")"
   ]
  },
  {
   "cell_type": "code",
   "execution_count": 26,
   "id": "38771ec0",
   "metadata": {},
   "outputs": [],
   "source": [
    "# base_df.violinplot(\"latestPrice\", by=\"latest_saleyear\", figsize=(20, 10))\n",
    "\n",
    "# sns.violinplot(data=base_df, x=\"latest_saleyear\", y=\"latestPrice\", hue=\"smoker\",\n",
    "#                split=True, inner=\"quart\", linewidth=1,\n",
    "#                palette={\"Yes\": \"b\", \"No\": \".85\"})\n",
    "# sns.despine(left=True)\n",
    "\n",
    "# ax = sns.violinplot(x=\"latest_saleyear\", y=\"latestPrice\", data=base_df)"
   ]
  },
  {
   "cell_type": "code",
   "execution_count": 27,
   "id": "75b72461",
   "metadata": {},
   "outputs": [],
   "source": [
    "# sns.relplot(data=base_df, x=\"lotSizeSqFt\", y=\"latestPrice\", hue=\"latest_saleyear\")"
   ]
  },
  {
   "cell_type": "code",
   "execution_count": 28,
   "id": "bf118922",
   "metadata": {},
   "outputs": [],
   "source": [
    "sns.set_theme(style=\"white\", rc={\"axes.facecolor\": (0, 0, 0, 0)})"
   ]
  },
  {
   "cell_type": "code",
   "execution_count": 29,
   "id": "ab155c0a",
   "metadata": {},
   "outputs": [],
   "source": [
    "# target_city = \"Austin, Texas\"\n",
    "\n",
    "# target_url = f\"https://maps.googleapis.com/maps/api/geocode/json?address={target_city}&key={gkey}\"\n",
    "# target_url"
   ]
  },
  {
   "cell_type": "code",
   "execution_count": 30,
   "id": "1af6553a",
   "metadata": {},
   "outputs": [],
   "source": [
    "# response = requests.get(target_url)\n",
    "\n",
    "# geo_data = response.json()\n",
    "\n",
    "# Print the json"
   ]
  },
  {
   "cell_type": "code",
   "execution_count": 31,
   "id": "376afba5",
   "metadata": {},
   "outputs": [
    {
     "data": {
      "text/plain": [
       "14239"
      ]
     },
     "execution_count": 31,
     "metadata": {},
     "output_type": "execute_result"
    }
   ],
   "source": [
    "# base_df.rename(columns={'latestPrice': 'Price'}, inplace=True)\n",
    "len(cleaned_data[[\"latestPrice\"]])"
   ]
  },
  {
   "cell_type": "code",
   "execution_count": 32,
   "id": "524febbd",
   "metadata": {},
   "outputs": [
    {
     "data": {
      "text/html": [
       "<div>\n",
       "<style scoped>\n",
       "    .dataframe tbody tr th:only-of-type {\n",
       "        vertical-align: middle;\n",
       "    }\n",
       "\n",
       "    .dataframe tbody tr th {\n",
       "        vertical-align: top;\n",
       "    }\n",
       "\n",
       "    .dataframe thead th {\n",
       "        text-align: right;\n",
       "    }\n",
       "</style>\n",
       "<table border=\"1\" class=\"dataframe\">\n",
       "  <thead>\n",
       "    <tr style=\"text-align: right;\">\n",
       "      <th></th>\n",
       "      <th>latitude</th>\n",
       "      <th>longitude</th>\n",
       "      <th>latestPrice</th>\n",
       "    </tr>\n",
       "  </thead>\n",
       "  <tbody>\n",
       "    <tr>\n",
       "      <th>0</th>\n",
       "      <td>30.430632</td>\n",
       "      <td>-97.663078</td>\n",
       "      <td>305000</td>\n",
       "    </tr>\n",
       "    <tr>\n",
       "      <th>1</th>\n",
       "      <td>30.432672</td>\n",
       "      <td>-97.661697</td>\n",
       "      <td>295000</td>\n",
       "    </tr>\n",
       "    <tr>\n",
       "      <th>2</th>\n",
       "      <td>30.409748</td>\n",
       "      <td>-97.639771</td>\n",
       "      <td>256125</td>\n",
       "    </tr>\n",
       "    <tr>\n",
       "      <th>3</th>\n",
       "      <td>30.432112</td>\n",
       "      <td>-97.661659</td>\n",
       "      <td>240000</td>\n",
       "    </tr>\n",
       "    <tr>\n",
       "      <th>4</th>\n",
       "      <td>30.437368</td>\n",
       "      <td>-97.656860</td>\n",
       "      <td>239900</td>\n",
       "    </tr>\n",
       "    <tr>\n",
       "      <th>...</th>\n",
       "      <td>...</td>\n",
       "      <td>...</td>\n",
       "      <td>...</td>\n",
       "    </tr>\n",
       "    <tr>\n",
       "      <th>15165</th>\n",
       "      <td>30.185915</td>\n",
       "      <td>-97.828415</td>\n",
       "      <td>280000</td>\n",
       "    </tr>\n",
       "    <tr>\n",
       "      <th>15166</th>\n",
       "      <td>30.161997</td>\n",
       "      <td>-97.816345</td>\n",
       "      <td>330000</td>\n",
       "    </tr>\n",
       "    <tr>\n",
       "      <th>15167</th>\n",
       "      <td>30.240223</td>\n",
       "      <td>-97.772835</td>\n",
       "      <td>550000</td>\n",
       "    </tr>\n",
       "    <tr>\n",
       "      <th>15168</th>\n",
       "      <td>30.244835</td>\n",
       "      <td>-97.761124</td>\n",
       "      <td>875000</td>\n",
       "    </tr>\n",
       "    <tr>\n",
       "      <th>15170</th>\n",
       "      <td>30.276930</td>\n",
       "      <td>-97.701523</td>\n",
       "      <td>374900</td>\n",
       "    </tr>\n",
       "  </tbody>\n",
       "</table>\n",
       "<p>14239 rows × 3 columns</p>\n",
       "</div>"
      ],
      "text/plain": [
       "        latitude  longitude  latestPrice\n",
       "0      30.430632 -97.663078       305000\n",
       "1      30.432672 -97.661697       295000\n",
       "2      30.409748 -97.639771       256125\n",
       "3      30.432112 -97.661659       240000\n",
       "4      30.437368 -97.656860       239900\n",
       "...          ...        ...          ...\n",
       "15165  30.185915 -97.828415       280000\n",
       "15166  30.161997 -97.816345       330000\n",
       "15167  30.240223 -97.772835       550000\n",
       "15168  30.244835 -97.761124       875000\n",
       "15170  30.276930 -97.701523       374900\n",
       "\n",
       "[14239 rows x 3 columns]"
      ]
     },
     "execution_count": 32,
     "metadata": {},
     "output_type": "execute_result"
    }
   ],
   "source": [
    "city_latslong = cleaned_data[[\"latitude\", \"longitude\", \"latestPrice\"]]\n",
    "city_latslong"
   ]
  },
  {
   "cell_type": "code",
   "execution_count": 33,
   "id": "c78929fd",
   "metadata": {},
   "outputs": [],
   "source": [
    "#  def _render_map(self, initial_year):              \n",
    "\n",
    "#         fig = gmaps.figure() \n",
    "#         self._marker_layer = gmaps.marker_layer([])\n",
    "#     \n",
    "#         self._heatmap = gmaps.heatmap_layer(self._locations_for_year(initial_year),\n",
    "#                                             weights=self._weights_for_year(initial_year),\n",
    "#                                             max_intensity=self._max_weights_for_year(initial_year),\n",
    "#                                             point_radius=10)\n",
    "#         fig.add_layer(self._heatmap)\n",
    "#         fig.add_layer(self._marker_layer)\n",
    "#         return fig"
   ]
  },
  {
   "cell_type": "code",
   "execution_count": 34,
   "id": "06b6ef97",
   "metadata": {},
   "outputs": [],
   "source": [
    "figure_layout = {\n",
    "    'width': '400px',\n",
    "    'height': '300px',\n",
    "    'border': '1px solid black',\n",
    "    'padding': '1px',\n",
    "    'margin': '0 auto 0 auto'\n",
    "}\n",
    "fig = gmaps.figure(layout=figure_layout)"
   ]
  },
  {
   "cell_type": "code",
   "execution_count": 35,
   "id": "7ab0a01f",
   "metadata": {},
   "outputs": [],
   "source": [
    "# markers = gmaps.marker_layer(city_latslong)\n",
    "# # Add the layer to the map\n",
    "# fig.add_layer(markers)\n",
    "# fig"
   ]
  },
  {
   "cell_type": "code",
   "execution_count": 36,
   "id": "c5f259ca",
   "metadata": {},
   "outputs": [],
   "source": [
    "# len(city_latslong)"
   ]
  },
  {
   "cell_type": "code",
   "execution_count": 37,
   "id": "8645fe1f",
   "metadata": {},
   "outputs": [
    {
     "data": {
      "text/plain": [
       "0        305000\n",
       "1        295000\n",
       "2        256125\n",
       "3        240000\n",
       "4        239900\n",
       "          ...  \n",
       "15165    280000\n",
       "15166    330000\n",
       "15167    550000\n",
       "15168    875000\n",
       "15170    374900\n",
       "Name: latestPrice, Length: 14239, dtype: int64"
      ]
     },
     "execution_count": 37,
     "metadata": {},
     "output_type": "execute_result"
    }
   ],
   "source": [
    "price = cleaned_data['latestPrice']\n",
    "price"
   ]
  },
  {
   "cell_type": "code",
   "execution_count": 38,
   "id": "2d6903e4",
   "metadata": {},
   "outputs": [],
   "source": [
    "from IPython.display import display\n",
    "import ipywidgets as widgets"
   ]
  },
  {
   "cell_type": "code",
   "execution_count": 39,
   "id": "69d80a23",
   "metadata": {},
   "outputs": [
    {
     "data": {
      "text/html": [
       "<div>\n",
       "<style scoped>\n",
       "    .dataframe tbody tr th:only-of-type {\n",
       "        vertical-align: middle;\n",
       "    }\n",
       "\n",
       "    .dataframe tbody tr th {\n",
       "        vertical-align: top;\n",
       "    }\n",
       "\n",
       "    .dataframe thead th {\n",
       "        text-align: right;\n",
       "    }\n",
       "</style>\n",
       "<table border=\"1\" class=\"dataframe\">\n",
       "  <thead>\n",
       "    <tr style=\"text-align: right;\">\n",
       "      <th></th>\n",
       "      <th>livingAreaSqFt</th>\n",
       "      <th>latitude</th>\n",
       "      <th>longitude</th>\n",
       "      <th>latestPrice</th>\n",
       "    </tr>\n",
       "  </thead>\n",
       "  <tbody>\n",
       "    <tr>\n",
       "      <th>0</th>\n",
       "      <td>2601</td>\n",
       "      <td>30.430632</td>\n",
       "      <td>-97.663078</td>\n",
       "      <td>305000</td>\n",
       "    </tr>\n",
       "    <tr>\n",
       "      <th>1</th>\n",
       "      <td>1768</td>\n",
       "      <td>30.432672</td>\n",
       "      <td>-97.661697</td>\n",
       "      <td>295000</td>\n",
       "    </tr>\n",
       "    <tr>\n",
       "      <th>2</th>\n",
       "      <td>1478</td>\n",
       "      <td>30.409748</td>\n",
       "      <td>-97.639771</td>\n",
       "      <td>256125</td>\n",
       "    </tr>\n",
       "    <tr>\n",
       "      <th>3</th>\n",
       "      <td>1678</td>\n",
       "      <td>30.432112</td>\n",
       "      <td>-97.661659</td>\n",
       "      <td>240000</td>\n",
       "    </tr>\n",
       "    <tr>\n",
       "      <th>4</th>\n",
       "      <td>2132</td>\n",
       "      <td>30.437368</td>\n",
       "      <td>-97.656860</td>\n",
       "      <td>239900</td>\n",
       "    </tr>\n",
       "    <tr>\n",
       "      <th>...</th>\n",
       "      <td>...</td>\n",
       "      <td>...</td>\n",
       "      <td>...</td>\n",
       "      <td>...</td>\n",
       "    </tr>\n",
       "    <tr>\n",
       "      <th>15165</th>\n",
       "      <td>1420</td>\n",
       "      <td>30.185915</td>\n",
       "      <td>-97.828415</td>\n",
       "      <td>280000</td>\n",
       "    </tr>\n",
       "    <tr>\n",
       "      <th>15166</th>\n",
       "      <td>1234</td>\n",
       "      <td>30.161997</td>\n",
       "      <td>-97.816345</td>\n",
       "      <td>330000</td>\n",
       "    </tr>\n",
       "    <tr>\n",
       "      <th>15167</th>\n",
       "      <td>1888</td>\n",
       "      <td>30.240223</td>\n",
       "      <td>-97.772835</td>\n",
       "      <td>550000</td>\n",
       "    </tr>\n",
       "    <tr>\n",
       "      <th>15168</th>\n",
       "      <td>1524</td>\n",
       "      <td>30.244835</td>\n",
       "      <td>-97.761124</td>\n",
       "      <td>875000</td>\n",
       "    </tr>\n",
       "    <tr>\n",
       "      <th>15170</th>\n",
       "      <td>720</td>\n",
       "      <td>30.276930</td>\n",
       "      <td>-97.701523</td>\n",
       "      <td>374900</td>\n",
       "    </tr>\n",
       "  </tbody>\n",
       "</table>\n",
       "<p>14239 rows × 4 columns</p>\n",
       "</div>"
      ],
      "text/plain": [
       "       livingAreaSqFt   latitude  longitude  latestPrice\n",
       "0                2601  30.430632 -97.663078       305000\n",
       "1                1768  30.432672 -97.661697       295000\n",
       "2                1478  30.409748 -97.639771       256125\n",
       "3                1678  30.432112 -97.661659       240000\n",
       "4                2132  30.437368 -97.656860       239900\n",
       "...               ...        ...        ...          ...\n",
       "15165            1420  30.185915 -97.828415       280000\n",
       "15166            1234  30.161997 -97.816345       330000\n",
       "15167            1888  30.240223 -97.772835       550000\n",
       "15168            1524  30.244835 -97.761124       875000\n",
       "15170             720  30.276930 -97.701523       374900\n",
       "\n",
       "[14239 rows x 4 columns]"
      ]
     },
     "execution_count": 39,
     "metadata": {},
     "output_type": "execute_result"
    }
   ],
   "source": [
    "sqft_price = cleaned_data[[\"livingAreaSqFt\", \"latitude\", 'longitude', \"latestPrice\"]]\n",
    "sqft_price\n"
   ]
  },
  {
   "cell_type": "code",
   "execution_count": 40,
   "id": "95c00706",
   "metadata": {},
   "outputs": [
    {
     "data": {
      "application/vnd.jupyter.widget-view+json": {
       "model_id": "f5576d55f38f4d80a39128b7a0561378",
       "version_major": 2,
       "version_minor": 0
      },
      "text/plain": [
       "Figure(layout=FigureLayout(height='420px'))"
      ]
     },
     "metadata": {},
     "output_type": "display_data"
    }
   ],
   "source": [
    "locations = city_latslong[[\"latitude\", \"longitude\"]]\n",
    "fig = gmaps.figure(map_type='TERRAIN')\n",
    "heatmap_layer = gmaps.heatmap_layer(locations, weights=cleaned_data['latestPrice']) \n",
    "\n",
    "fig.add_layer(heatmap_layer)\n",
    "# fig.add_layer(gmaps.traffic_layer)\n",
    "fig"
   ]
  },
  {
   "cell_type": "code",
   "execution_count": 41,
   "id": "9bef368c",
   "metadata": {},
   "outputs": [],
   "source": [
    "# heatmap_layer.gradient = [\n",
    "#     'white',\n",
    "#     'teal',\n",
    "#     'aqua'\n",
    "# ]\n",
    "heatmap_layer.point_radius = 25\n",
    "# heatmap_layer.opacity = 0.0 # make the heatmap transparent"
   ]
  },
  {
   "cell_type": "code",
   "execution_count": 42,
   "id": "9217501b",
   "metadata": {},
   "outputs": [
    {
     "data": {
      "text/plain": [
       "Index(['zpid', 'city', 'streetAddress', 'zipcode', 'description', 'latitude',\n",
       "       'longitude', 'propertyTaxRate', 'garageSpaces', 'hasAssociation',\n",
       "       'hasCooling', 'hasGarage', 'hasHeating', 'hasSpa', 'hasView',\n",
       "       'homeType', 'parkingSpaces', 'yearBuilt', 'latestPrice',\n",
       "       'numPriceChanges', 'latest_saledate', 'latest_salemonth',\n",
       "       'latest_saleyear', 'latestPriceSource', 'numOfPhotos',\n",
       "       'numOfAccessibilityFeatures', 'numOfAppliances', 'numOfParkingFeatures',\n",
       "       'numOfPatioAndPorchFeatures', 'numOfSecurityFeatures',\n",
       "       'numOfWaterfrontFeatures', 'numOfWindowFeatures',\n",
       "       'numOfCommunityFeatures', 'lotSizeSqFt', 'livingAreaSqFt',\n",
       "       'numOfPrimarySchools', 'numOfElementarySchools', 'numOfMiddleSchools',\n",
       "       'numOfHighSchools', 'avgSchoolDistance', 'avgSchoolRating',\n",
       "       'avgSchoolSize', 'MedianStudentsPerTeacher', 'numOfBathrooms',\n",
       "       'numOfBedrooms', 'numOfStories', 'homeImage'],\n",
       "      dtype='object')"
      ]
     },
     "execution_count": 42,
     "metadata": {},
     "output_type": "execute_result"
    }
   ],
   "source": [
    "base_df.columns"
   ]
  },
  {
   "cell_type": "code",
   "execution_count": 59,
   "id": "15c22228",
   "metadata": {
    "scrolled": true
   },
   "outputs": [
    {
     "name": "stderr",
     "output_type": "stream",
     "text": [
      "C:\\Users\\arnol\\anaconda3\\lib\\site-packages\\pandas\\core\\frame.py:4441: SettingWithCopyWarning: \n",
      "A value is trying to be set on a copy of a slice from a DataFrame\n",
      "\n",
      "See the caveats in the documentation: https://pandas.pydata.org/pandas-docs/stable/user_guide/indexing.html#returning-a-view-versus-a-copy\n",
      "  return super().rename(\n"
     ]
    },
    {
     "data": {
      "text/html": [
       "<div>\n",
       "<style scoped>\n",
       "    .dataframe tbody tr th:only-of-type {\n",
       "        vertical-align: middle;\n",
       "    }\n",
       "\n",
       "    .dataframe tbody tr th {\n",
       "        vertical-align: top;\n",
       "    }\n",
       "\n",
       "    .dataframe thead th {\n",
       "        text-align: right;\n",
       "    }\n",
       "</style>\n",
       "<table border=\"1\" class=\"dataframe\">\n",
       "  <thead>\n",
       "    <tr style=\"text-align: right;\">\n",
       "      <th></th>\n",
       "      <th>zpid</th>\n",
       "      <th>City</th>\n",
       "      <th>Street Address</th>\n",
       "      <th>Zipcode</th>\n",
       "      <th>Description</th>\n",
       "      <th>Latitude</th>\n",
       "      <th>Longitude</th>\n",
       "      <th>Property Tax Rate</th>\n",
       "      <th>Garage Spaces</th>\n",
       "      <th>Has HOA?</th>\n",
       "      <th>...</th>\n",
       "      <th># of Middle Schools</th>\n",
       "      <th># of High Schools</th>\n",
       "      <th>Avg School Distance</th>\n",
       "      <th>Avg School Rating</th>\n",
       "      <th>Avg School Size</th>\n",
       "      <th>Median Students Per Teacher</th>\n",
       "      <th># of Bathrooms</th>\n",
       "      <th># of Bedrooms</th>\n",
       "      <th># of Stories</th>\n",
       "      <th>homeImage</th>\n",
       "    </tr>\n",
       "  </thead>\n",
       "  <tbody>\n",
       "    <tr>\n",
       "      <th>0</th>\n",
       "      <td>111373431</td>\n",
       "      <td>pflugerville</td>\n",
       "      <td>14424 Lake Victor Dr</td>\n",
       "      <td>78660</td>\n",
       "      <td>14424 Lake Victor Dr, Pflugerville, TX 78660 i...</td>\n",
       "      <td>30.430632</td>\n",
       "      <td>-97.663078</td>\n",
       "      <td>1.98</td>\n",
       "      <td>2</td>\n",
       "      <td>True</td>\n",
       "      <td>...</td>\n",
       "      <td>1</td>\n",
       "      <td>1</td>\n",
       "      <td>1.266667</td>\n",
       "      <td>2.666667</td>\n",
       "      <td>1063</td>\n",
       "      <td>14</td>\n",
       "      <td>3.0</td>\n",
       "      <td>4</td>\n",
       "      <td>2</td>\n",
       "      <td>111373431_ffce26843283d3365c11d81b8e6bdc6f-p_f...</td>\n",
       "    </tr>\n",
       "    <tr>\n",
       "      <th>1</th>\n",
       "      <td>120900430</td>\n",
       "      <td>pflugerville</td>\n",
       "      <td>1104 Strickling Dr</td>\n",
       "      <td>78660</td>\n",
       "      <td>Absolutely GORGEOUS 4 Bedroom home with 2 full...</td>\n",
       "      <td>30.432672</td>\n",
       "      <td>-97.661697</td>\n",
       "      <td>1.98</td>\n",
       "      <td>2</td>\n",
       "      <td>True</td>\n",
       "      <td>...</td>\n",
       "      <td>1</td>\n",
       "      <td>1</td>\n",
       "      <td>1.400000</td>\n",
       "      <td>2.666667</td>\n",
       "      <td>1063</td>\n",
       "      <td>14</td>\n",
       "      <td>2.0</td>\n",
       "      <td>4</td>\n",
       "      <td>1</td>\n",
       "      <td>120900430_8255c127be8dcf0a1a18b7563d987088-p_f...</td>\n",
       "    </tr>\n",
       "    <tr>\n",
       "      <th>2</th>\n",
       "      <td>2084491383</td>\n",
       "      <td>pflugerville</td>\n",
       "      <td>1408 Fort Dessau Rd</td>\n",
       "      <td>78660</td>\n",
       "      <td>Under construction - estimated completion in A...</td>\n",
       "      <td>30.409748</td>\n",
       "      <td>-97.639771</td>\n",
       "      <td>1.98</td>\n",
       "      <td>0</td>\n",
       "      <td>True</td>\n",
       "      <td>...</td>\n",
       "      <td>1</td>\n",
       "      <td>1</td>\n",
       "      <td>1.200000</td>\n",
       "      <td>3.000000</td>\n",
       "      <td>1108</td>\n",
       "      <td>14</td>\n",
       "      <td>2.0</td>\n",
       "      <td>3</td>\n",
       "      <td>1</td>\n",
       "      <td>2084491383_a2ad649e1a7a098111dcea084a11c855-p_...</td>\n",
       "    </tr>\n",
       "    <tr>\n",
       "      <th>3</th>\n",
       "      <td>120901374</td>\n",
       "      <td>pflugerville</td>\n",
       "      <td>1025 Strickling Dr</td>\n",
       "      <td>78660</td>\n",
       "      <td>Absolutely darling one story home in charming ...</td>\n",
       "      <td>30.432112</td>\n",
       "      <td>-97.661659</td>\n",
       "      <td>1.98</td>\n",
       "      <td>2</td>\n",
       "      <td>True</td>\n",
       "      <td>...</td>\n",
       "      <td>1</td>\n",
       "      <td>1</td>\n",
       "      <td>1.400000</td>\n",
       "      <td>2.666667</td>\n",
       "      <td>1063</td>\n",
       "      <td>14</td>\n",
       "      <td>2.0</td>\n",
       "      <td>3</td>\n",
       "      <td>1</td>\n",
       "      <td>120901374_b469367a619da85b1f5ceb69b675d88e-p_f...</td>\n",
       "    </tr>\n",
       "    <tr>\n",
       "      <th>4</th>\n",
       "      <td>60134862</td>\n",
       "      <td>pflugerville</td>\n",
       "      <td>15005 Donna Jane Loop</td>\n",
       "      <td>78660</td>\n",
       "      <td>Brimming with appeal &amp; warm livability! Sleek ...</td>\n",
       "      <td>30.437368</td>\n",
       "      <td>-97.656860</td>\n",
       "      <td>1.98</td>\n",
       "      <td>0</td>\n",
       "      <td>True</td>\n",
       "      <td>...</td>\n",
       "      <td>1</td>\n",
       "      <td>1</td>\n",
       "      <td>1.133333</td>\n",
       "      <td>4.000000</td>\n",
       "      <td>1223</td>\n",
       "      <td>14</td>\n",
       "      <td>3.0</td>\n",
       "      <td>3</td>\n",
       "      <td>2</td>\n",
       "      <td>60134862_b1a48a3df3f111e005bb913873e98ce2-p_f.jpg</td>\n",
       "    </tr>\n",
       "    <tr>\n",
       "      <th>...</th>\n",
       "      <td>...</td>\n",
       "      <td>...</td>\n",
       "      <td>...</td>\n",
       "      <td>...</td>\n",
       "      <td>...</td>\n",
       "      <td>...</td>\n",
       "      <td>...</td>\n",
       "      <td>...</td>\n",
       "      <td>...</td>\n",
       "      <td>...</td>\n",
       "      <td>...</td>\n",
       "      <td>...</td>\n",
       "      <td>...</td>\n",
       "      <td>...</td>\n",
       "      <td>...</td>\n",
       "      <td>...</td>\n",
       "      <td>...</td>\n",
       "      <td>...</td>\n",
       "      <td>...</td>\n",
       "      <td>...</td>\n",
       "      <td>...</td>\n",
       "    </tr>\n",
       "    <tr>\n",
       "      <th>15165</th>\n",
       "      <td>29504086</td>\n",
       "      <td>austin</td>\n",
       "      <td>9013 Marsh Dr</td>\n",
       "      <td>78748</td>\n",
       "      <td>This 3 bedroom home is nestled among mature sh...</td>\n",
       "      <td>30.185915</td>\n",
       "      <td>-97.828415</td>\n",
       "      <td>1.98</td>\n",
       "      <td>2</td>\n",
       "      <td>False</td>\n",
       "      <td>...</td>\n",
       "      <td>1</td>\n",
       "      <td>1</td>\n",
       "      <td>2.133333</td>\n",
       "      <td>5.666667</td>\n",
       "      <td>1537</td>\n",
       "      <td>16</td>\n",
       "      <td>2.0</td>\n",
       "      <td>3</td>\n",
       "      <td>1</td>\n",
       "      <td>29504086_f55db59cbebad30d475f31e6aee0d020-p_f.jpg</td>\n",
       "    </tr>\n",
       "    <tr>\n",
       "      <th>15166</th>\n",
       "      <td>29512934</td>\n",
       "      <td>austin</td>\n",
       "      <td>905 Silcantu Dr</td>\n",
       "      <td>78748</td>\n",
       "      <td>Not for rent!\\r\\n\\r\\nBeautiful one story home ...</td>\n",
       "      <td>30.161997</td>\n",
       "      <td>-97.816345</td>\n",
       "      <td>1.98</td>\n",
       "      <td>6</td>\n",
       "      <td>False</td>\n",
       "      <td>...</td>\n",
       "      <td>1</td>\n",
       "      <td>1</td>\n",
       "      <td>0.900000</td>\n",
       "      <td>3.333333</td>\n",
       "      <td>1424</td>\n",
       "      <td>14</td>\n",
       "      <td>2.0</td>\n",
       "      <td>3</td>\n",
       "      <td>1</td>\n",
       "      <td>29512934_ff9b6eefa7e2eb4e9ef983da13a23098-p_f.jpg</td>\n",
       "    </tr>\n",
       "    <tr>\n",
       "      <th>15167</th>\n",
       "      <td>241937773</td>\n",
       "      <td>austin</td>\n",
       "      <td>1413 Waterloo Shore Ln UNIT 12</td>\n",
       "      <td>78741</td>\n",
       "      <td>This contemporary three-story detached condo h...</td>\n",
       "      <td>30.240223</td>\n",
       "      <td>-97.772835</td>\n",
       "      <td>1.98</td>\n",
       "      <td>2</td>\n",
       "      <td>True</td>\n",
       "      <td>...</td>\n",
       "      <td>1</td>\n",
       "      <td>1</td>\n",
       "      <td>1.900000</td>\n",
       "      <td>6.666667</td>\n",
       "      <td>1226</td>\n",
       "      <td>16</td>\n",
       "      <td>4.0</td>\n",
       "      <td>3</td>\n",
       "      <td>3</td>\n",
       "      <td>241937773_66d3e483bd783eac5a52ff5f938d2a2e-p_f...</td>\n",
       "    </tr>\n",
       "    <tr>\n",
       "      <th>15168</th>\n",
       "      <td>29473281</td>\n",
       "      <td>austin</td>\n",
       "      <td>2206 S 3rd St</td>\n",
       "      <td>78704</td>\n",
       "      <td>Original bungalow with a modern addition. Larg...</td>\n",
       "      <td>30.244835</td>\n",
       "      <td>-97.761124</td>\n",
       "      <td>1.98</td>\n",
       "      <td>2</td>\n",
       "      <td>False</td>\n",
       "      <td>...</td>\n",
       "      <td>1</td>\n",
       "      <td>1</td>\n",
       "      <td>0.800000</td>\n",
       "      <td>5.000000</td>\n",
       "      <td>889</td>\n",
       "      <td>13</td>\n",
       "      <td>3.0</td>\n",
       "      <td>3</td>\n",
       "      <td>2</td>\n",
       "      <td>29473281_9e90ec4652c4b3b6592a7fdd09f1ea6d-p_f.jpg</td>\n",
       "    </tr>\n",
       "    <tr>\n",
       "      <th>15170</th>\n",
       "      <td>29390174</td>\n",
       "      <td>austin</td>\n",
       "      <td>3110 E 12th St</td>\n",
       "      <td>78702</td>\n",
       "      <td>3110 E 12th St, Austin, TX 78702 is a single f...</td>\n",
       "      <td>30.276930</td>\n",
       "      <td>-97.701523</td>\n",
       "      <td>1.98</td>\n",
       "      <td>1</td>\n",
       "      <td>False</td>\n",
       "      <td>...</td>\n",
       "      <td>1</td>\n",
       "      <td>1</td>\n",
       "      <td>1.900000</td>\n",
       "      <td>6.666667</td>\n",
       "      <td>1057</td>\n",
       "      <td>15</td>\n",
       "      <td>1.0</td>\n",
       "      <td>2</td>\n",
       "      <td>1</td>\n",
       "      <td>29390174_9580c60e14870498b2ce98b5f889471e-p_f.jpg</td>\n",
       "    </tr>\n",
       "  </tbody>\n",
       "</table>\n",
       "<p>14239 rows × 47 columns</p>\n",
       "</div>"
      ],
      "text/plain": [
       "             zpid          City                  Street Address  Zipcode  \\\n",
       "0       111373431  pflugerville            14424 Lake Victor Dr    78660   \n",
       "1       120900430  pflugerville              1104 Strickling Dr    78660   \n",
       "2      2084491383  pflugerville             1408 Fort Dessau Rd    78660   \n",
       "3       120901374  pflugerville              1025 Strickling Dr    78660   \n",
       "4        60134862  pflugerville           15005 Donna Jane Loop    78660   \n",
       "...           ...           ...                             ...      ...   \n",
       "15165    29504086        austin                   9013 Marsh Dr    78748   \n",
       "15166    29512934        austin                 905 Silcantu Dr    78748   \n",
       "15167   241937773        austin  1413 Waterloo Shore Ln UNIT 12    78741   \n",
       "15168    29473281        austin                   2206 S 3rd St    78704   \n",
       "15170    29390174        austin                  3110 E 12th St    78702   \n",
       "\n",
       "                                             Description   Latitude  \\\n",
       "0      14424 Lake Victor Dr, Pflugerville, TX 78660 i...  30.430632   \n",
       "1      Absolutely GORGEOUS 4 Bedroom home with 2 full...  30.432672   \n",
       "2      Under construction - estimated completion in A...  30.409748   \n",
       "3      Absolutely darling one story home in charming ...  30.432112   \n",
       "4      Brimming with appeal & warm livability! Sleek ...  30.437368   \n",
       "...                                                  ...        ...   \n",
       "15165  This 3 bedroom home is nestled among mature sh...  30.185915   \n",
       "15166  Not for rent!\\r\\n\\r\\nBeautiful one story home ...  30.161997   \n",
       "15167  This contemporary three-story detached condo h...  30.240223   \n",
       "15168  Original bungalow with a modern addition. Larg...  30.244835   \n",
       "15170  3110 E 12th St, Austin, TX 78702 is a single f...  30.276930   \n",
       "\n",
       "       Longitude  Property Tax Rate  Garage Spaces  Has HOA?  ...  \\\n",
       "0     -97.663078               1.98              2      True  ...   \n",
       "1     -97.661697               1.98              2      True  ...   \n",
       "2     -97.639771               1.98              0      True  ...   \n",
       "3     -97.661659               1.98              2      True  ...   \n",
       "4     -97.656860               1.98              0      True  ...   \n",
       "...          ...                ...            ...       ...  ...   \n",
       "15165 -97.828415               1.98              2     False  ...   \n",
       "15166 -97.816345               1.98              6     False  ...   \n",
       "15167 -97.772835               1.98              2      True  ...   \n",
       "15168 -97.761124               1.98              2     False  ...   \n",
       "15170 -97.701523               1.98              1     False  ...   \n",
       "\n",
       "       # of Middle Schools  # of High Schools  Avg School Distance  \\\n",
       "0                        1                  1             1.266667   \n",
       "1                        1                  1             1.400000   \n",
       "2                        1                  1             1.200000   \n",
       "3                        1                  1             1.400000   \n",
       "4                        1                  1             1.133333   \n",
       "...                    ...                ...                  ...   \n",
       "15165                    1                  1             2.133333   \n",
       "15166                    1                  1             0.900000   \n",
       "15167                    1                  1             1.900000   \n",
       "15168                    1                  1             0.800000   \n",
       "15170                    1                  1             1.900000   \n",
       "\n",
       "       Avg School Rating  Avg School Size Median Students Per Teacher  \\\n",
       "0               2.666667             1063                          14   \n",
       "1               2.666667             1063                          14   \n",
       "2               3.000000             1108                          14   \n",
       "3               2.666667             1063                          14   \n",
       "4               4.000000             1223                          14   \n",
       "...                  ...              ...                         ...   \n",
       "15165           5.666667             1537                          16   \n",
       "15166           3.333333             1424                          14   \n",
       "15167           6.666667             1226                          16   \n",
       "15168           5.000000              889                          13   \n",
       "15170           6.666667             1057                          15   \n",
       "\n",
       "       # of Bathrooms  # of Bedrooms  # of Stories  \\\n",
       "0                 3.0              4             2   \n",
       "1                 2.0              4             1   \n",
       "2                 2.0              3             1   \n",
       "3                 2.0              3             1   \n",
       "4                 3.0              3             2   \n",
       "...               ...            ...           ...   \n",
       "15165             2.0              3             1   \n",
       "15166             2.0              3             1   \n",
       "15167             4.0              3             3   \n",
       "15168             3.0              3             2   \n",
       "15170             1.0              2             1   \n",
       "\n",
       "                                               homeImage  \n",
       "0      111373431_ffce26843283d3365c11d81b8e6bdc6f-p_f...  \n",
       "1      120900430_8255c127be8dcf0a1a18b7563d987088-p_f...  \n",
       "2      2084491383_a2ad649e1a7a098111dcea084a11c855-p_...  \n",
       "3      120901374_b469367a619da85b1f5ceb69b675d88e-p_f...  \n",
       "4      60134862_b1a48a3df3f111e005bb913873e98ce2-p_f.jpg  \n",
       "...                                                  ...  \n",
       "15165  29504086_f55db59cbebad30d475f31e6aee0d020-p_f.jpg  \n",
       "15166  29512934_ff9b6eefa7e2eb4e9ef983da13a23098-p_f.jpg  \n",
       "15167  241937773_66d3e483bd783eac5a52ff5f938d2a2e-p_f...  \n",
       "15168  29473281_9e90ec4652c4b3b6592a7fdd09f1ea6d-p_f.jpg  \n",
       "15170  29390174_9580c60e14870498b2ce98b5f889471e-p_f.jpg  \n",
       "\n",
       "[14239 rows x 47 columns]"
      ]
     },
     "execution_count": 59,
     "metadata": {},
     "output_type": "execute_result"
    }
   ],
   "source": [
    "cleaned_data.rename(columns={'city': 'City', 'streetAddress' : 'Street Address', 'zipcode' : 'Zipcode' , 'description' : 'Description', 'latitude' : 'Latitude',\n",
    "       'longitude' : 'Longitude', 'propertyTaxRate' : 'Property Tax Rate', 'garageSpaces' : 'Garage Spaces', 'hasAssociation' : 'Has HOA?',\n",
    "       'hasCooling' : 'Has Cooling', 'hasGarage' : 'Has Garage', 'hasHeating' : 'Has Heating', 'hasSpa' : 'Spa', 'hasView' : 'View',\n",
    "       'homeType' : 'Home Type', 'parkingSpaces' : '# of Parking Spaces', 'yearBuilt' : 'Year Built', 'latestPrice' : 'Latest Price',\n",
    "       'numPriceChanges' : '# of Price Changes', 'latest_saledate' : 'Latest Sale Date', 'latest_salemonth' : 'Latest Sale Month',\n",
    "       'latest_saleyear' :  'Latest Sale Year', 'latestPriceSource' : 'Price Source', 'numOfPhotos' : '# of Photos',\n",
    "       'numOfAccessibilityFeatures' : '# of Accesbility Features', 'numOfAppliances' : '# of Appliances', 'numOfParkingFeatures' : '# of Parking Features',\n",
    "       'numOfPatioAndPorchFeatures' : '# of Patio/Porch Features', 'numOfSecurityFeatures' : '# of Security Features', 'numOfWaterfrontFeatures' : '# of Waterfront Features', 'numOfWindowFeatures' : '# of Window Features',\n",
    "       'numOfCommunityFeatures' : '# of Community Features', 'lotSizeSqFt' : 'Lot Size (SqFt)', 'livingAreaSqFt' : 'livingArea (SqFt)',\n",
    "       'numOfPrimarySchools' : '# of Primary Schools', 'numOfElementarySchools' : '# of Elementary Schools', 'numOfMiddleSchools' : '# of Middle Schools',\n",
    "       'numOfHighSchools' : '# of High Schools', 'avgSchoolDistance' : 'Avg School Distance', 'avgSchoolRating' : 'Avg School Rating',\n",
    "       'avgSchoolSize' : 'Avg School Size', 'MedianStudentsPerTeacher' : 'Median Students Per Teacher', 'numOfBathrooms' : '# of Bathrooms',\n",
    "       'numOfBedrooms' : '# of Bedrooms', 'numOfStories' : '# of Stories'}, inplace=True)\n",
    "cleaned_data\n"
   ]
  },
  {
   "cell_type": "code",
   "execution_count": 44,
   "id": "c585cd24",
   "metadata": {},
   "outputs": [
    {
     "data": {
      "image/png": "[encoded data removed]",
      "text/plain": [
       "<Figure size 432x288 with 1 Axes>"
      ]
     },
     "metadata": {},
     "output_type": "display_data"
    }
   ],
   "source": [
    "# plt.figure(figsize= (10,6))\n",
    "plt.hist(cleaned_data.homeType)\n",
    "plt.ylabel('Count')\n",
    "plt.xlabel(\"homeType\")\n",
    "plt.title(\"Home Type Histogram\", fontweight=\"bold\", fontsize=16)\n",
    "plt.show()"
   ]
  },
  {
   "cell_type": "code",
   "execution_count": 45,
   "id": "d5b1594f",
   "metadata": {},
   "outputs": [
    {
     "ename": "TraitError",
     "evalue": "latitude is not a valid weight. Weights must be floats",
     "output_type": "error",
     "traceback": [
      "\u001b[1;31m---------------------------------------------------------------------------\u001b[0m",
      "\u001b[1;31mValueError\u001b[0m                                Traceback (most recent call last)",
      "\u001b[1;32m~\\anaconda3\\lib\\site-packages\\gmaps\\geotraitlets.py\u001b[0m in \u001b[0;36mvalidate\u001b[1;34m(self, obj, value)\u001b[0m\n\u001b[0;32m     41\u001b[0m             \u001b[1;32mtry\u001b[0m\u001b[1;33m:\u001b[0m\u001b[1;33m\u001b[0m\u001b[1;33m\u001b[0m\u001b[0m\n\u001b[1;32m---> 42\u001b[1;33m                 \u001b[0mweight\u001b[0m \u001b[1;33m=\u001b[0m \u001b[0mfloat\u001b[0m\u001b[1;33m(\u001b[0m\u001b[0mweight\u001b[0m\u001b[1;33m)\u001b[0m\u001b[1;33m\u001b[0m\u001b[1;33m\u001b[0m\u001b[0m\n\u001b[0m\u001b[0;32m     43\u001b[0m             \u001b[1;32mexcept\u001b[0m \u001b[1;33m(\u001b[0m\u001b[0mTypeError\u001b[0m\u001b[1;33m,\u001b[0m \u001b[0mValueError\u001b[0m\u001b[1;33m)\u001b[0m\u001b[1;33m:\u001b[0m\u001b[1;33m\u001b[0m\u001b[1;33m\u001b[0m\u001b[0m\n",
      "\u001b[1;31mValueError\u001b[0m: could not convert string to float: 'latitude'",
      "\nDuring handling of the above exception, another exception occurred:\n",
      "\u001b[1;31mTraitError\u001b[0m                                Traceback (most recent call last)",
      "\u001b[1;32m<ipython-input-45-ef2be43b458c>\u001b[0m in \u001b[0;36m<module>\u001b[1;34m\u001b[0m\n\u001b[0;32m     66\u001b[0m \u001b[1;33m\u001b[0m\u001b[0m\n\u001b[0;32m     67\u001b[0m \u001b[1;33m\u001b[0m\u001b[0m\n\u001b[1;32m---> 68\u001b[1;33m \u001b[0mInteractive\u001b[0m\u001b[1;33m(\u001b[0m\u001b[0msqft_price\u001b[0m\u001b[1;33m)\u001b[0m\u001b[1;33m.\u001b[0m\u001b[0mrender\u001b[0m\u001b[1;33m(\u001b[0m\u001b[1;33m)\u001b[0m\u001b[1;33m\u001b[0m\u001b[1;33m\u001b[0m\u001b[0m\n\u001b[0m",
      "\u001b[1;32m<ipython-input-45-ef2be43b458c>\u001b[0m in \u001b[0;36m__init__\u001b[1;34m(self, sqft_price)\u001b[0m\n\u001b[0;32m     11\u001b[0m         \u001b[0mmin_sqft\u001b[0m \u001b[1;33m=\u001b[0m \u001b[0mmin\u001b[0m\u001b[1;33m(\u001b[0m\u001b[0mself\u001b[0m\u001b[1;33m.\u001b[0m\u001b[0m_df\u001b[0m\u001b[1;33m[\u001b[0m\u001b[1;34m'livingAreaSqFt'\u001b[0m\u001b[1;33m]\u001b[0m\u001b[1;33m)\u001b[0m\u001b[1;33m\u001b[0m\u001b[1;33m\u001b[0m\u001b[0m\n\u001b[0;32m     12\u001b[0m \u001b[1;33m\u001b[0m\u001b[0m\n\u001b[1;32m---> 13\u001b[1;33m         \u001b[0mmap_figure\u001b[0m \u001b[1;33m=\u001b[0m \u001b[0mself\u001b[0m\u001b[1;33m.\u001b[0m\u001b[0m_render_map\u001b[0m\u001b[1;33m(\u001b[0m\u001b[0mmin_sqft\u001b[0m\u001b[1;33m)\u001b[0m\u001b[1;33m\u001b[0m\u001b[1;33m\u001b[0m\u001b[0m\n\u001b[0m\u001b[0;32m     14\u001b[0m         \u001b[0mcontrols\u001b[0m \u001b[1;33m=\u001b[0m \u001b[0mself\u001b[0m\u001b[1;33m.\u001b[0m\u001b[0m_render_controls\u001b[0m\u001b[1;33m(\u001b[0m\u001b[0mmin_sqft\u001b[0m\u001b[1;33m)\u001b[0m\u001b[1;33m\u001b[0m\u001b[1;33m\u001b[0m\u001b[0m\n\u001b[0;32m     15\u001b[0m         \u001b[0mself\u001b[0m\u001b[1;33m.\u001b[0m\u001b[0m_container\u001b[0m \u001b[1;33m=\u001b[0m \u001b[0mwidgets\u001b[0m\u001b[1;33m.\u001b[0m\u001b[0mVBox\u001b[0m\u001b[1;33m(\u001b[0m\u001b[1;33m[\u001b[0m\u001b[0mtitle_widget\u001b[0m\u001b[1;33m,\u001b[0m \u001b[0mcontrols\u001b[0m\u001b[1;33m,\u001b[0m \u001b[0mmap_figure\u001b[0m\u001b[1;33m]\u001b[0m\u001b[1;33m)\u001b[0m\u001b[1;33m\u001b[0m\u001b[1;33m\u001b[0m\u001b[0m\n",
      "\u001b[1;32m<ipython-input-45-ef2be43b458c>\u001b[0m in \u001b[0;36m_render_map\u001b[1;34m(self, min_sqft)\u001b[0m\n\u001b[0;32m     28\u001b[0m     \u001b[1;32mdef\u001b[0m \u001b[0m_render_map\u001b[0m\u001b[1;33m(\u001b[0m\u001b[0mself\u001b[0m\u001b[1;33m,\u001b[0m \u001b[0mmin_sqft\u001b[0m\u001b[1;33m)\u001b[0m\u001b[1;33m:\u001b[0m\u001b[1;33m\u001b[0m\u001b[1;33m\u001b[0m\u001b[0m\n\u001b[0;32m     29\u001b[0m         \u001b[0mfig\u001b[0m \u001b[1;33m=\u001b[0m \u001b[0mgmaps\u001b[0m\u001b[1;33m.\u001b[0m\u001b[0mfigure\u001b[0m\u001b[1;33m(\u001b[0m\u001b[0mmap_type\u001b[0m\u001b[1;33m=\u001b[0m\u001b[1;34m'TERRAIN'\u001b[0m\u001b[1;33m)\u001b[0m\u001b[1;33m\u001b[0m\u001b[1;33m\u001b[0m\u001b[0m\n\u001b[1;32m---> 30\u001b[1;33m         self._heatmap = gmaps.heatmap_layer(self._locations_for_year(min_sqft),\n\u001b[0m\u001b[0;32m     31\u001b[0m             \u001b[0mself\u001b[0m\u001b[1;33m.\u001b[0m\u001b[0m_locations_for_year\u001b[0m\u001b[1;33m(\u001b[0m\u001b[0mmin_sqft\u001b[0m\u001b[1;33m)\u001b[0m\u001b[1;33m,\u001b[0m\u001b[1;33m\u001b[0m\u001b[1;33m\u001b[0m\u001b[0m\n\u001b[0;32m     32\u001b[0m             \u001b[0mmax_intensity\u001b[0m\u001b[1;33m=\u001b[0m\u001b[1;36m100\u001b[0m\u001b[1;33m,\u001b[0m\u001b[1;33m\u001b[0m\u001b[1;33m\u001b[0m\u001b[0m\n",
      "\u001b[1;32m~\\anaconda3\\lib\\site-packages\\gmaps\\heatmap.py\u001b[0m in \u001b[0;36mheatmap_layer\u001b[1;34m(locations, weights, max_intensity, dissipating, point_radius, opacity, gradient)\u001b[0m\n\u001b[0;32m    267\u001b[0m     )\n\u001b[0;32m    268\u001b[0m     \u001b[1;32mif\u001b[0m \u001b[0mis_weighted\u001b[0m\u001b[1;33m:\u001b[0m\u001b[1;33m\u001b[0m\u001b[1;33m\u001b[0m\u001b[0m\n\u001b[1;32m--> 269\u001b[1;33m         \u001b[1;32mreturn\u001b[0m \u001b[0mWeightedHeatmap\u001b[0m\u001b[1;33m(\u001b[0m\u001b[1;33m**\u001b[0m\u001b[0mwidget_args\u001b[0m\u001b[1;33m)\u001b[0m\u001b[1;33m\u001b[0m\u001b[1;33m\u001b[0m\u001b[0m\n\u001b[0m\u001b[0;32m    270\u001b[0m     \u001b[1;32melse\u001b[0m\u001b[1;33m:\u001b[0m\u001b[1;33m\u001b[0m\u001b[1;33m\u001b[0m\u001b[0m\n\u001b[0;32m    271\u001b[0m         \u001b[1;32mreturn\u001b[0m \u001b[0mHeatmap\u001b[0m\u001b[1;33m(\u001b[0m\u001b[1;33m**\u001b[0m\u001b[0mwidget_args\u001b[0m\u001b[1;33m)\u001b[0m\u001b[1;33m\u001b[0m\u001b[1;33m\u001b[0m\u001b[0m\n",
      "\u001b[1;32m~\\anaconda3\\lib\\site-packages\\ipywidgets\\widgets\\widget.py\u001b[0m in \u001b[0;36m__init__\u001b[1;34m(self, **kwargs)\u001b[0m\n\u001b[0;32m    410\u001b[0m         \u001b[1;34m\"\"\"Public constructor\"\"\"\u001b[0m\u001b[1;33m\u001b[0m\u001b[1;33m\u001b[0m\u001b[0m\n\u001b[0;32m    411\u001b[0m         \u001b[0mself\u001b[0m\u001b[1;33m.\u001b[0m\u001b[0m_model_id\u001b[0m \u001b[1;33m=\u001b[0m \u001b[0mkwargs\u001b[0m\u001b[1;33m.\u001b[0m\u001b[0mpop\u001b[0m\u001b[1;33m(\u001b[0m\u001b[1;34m'model_id'\u001b[0m\u001b[1;33m,\u001b[0m \u001b[1;32mNone\u001b[0m\u001b[1;33m)\u001b[0m\u001b[1;33m\u001b[0m\u001b[1;33m\u001b[0m\u001b[0m\n\u001b[1;32m--> 412\u001b[1;33m         \u001b[0msuper\u001b[0m\u001b[1;33m(\u001b[0m\u001b[0mWidget\u001b[0m\u001b[1;33m,\u001b[0m \u001b[0mself\u001b[0m\u001b[1;33m)\u001b[0m\u001b[1;33m.\u001b[0m\u001b[0m__init__\u001b[0m\u001b[1;33m(\u001b[0m\u001b[1;33m**\u001b[0m\u001b[0mkwargs\u001b[0m\u001b[1;33m)\u001b[0m\u001b[1;33m\u001b[0m\u001b[1;33m\u001b[0m\u001b[0m\n\u001b[0m\u001b[0;32m    413\u001b[0m \u001b[1;33m\u001b[0m\u001b[0m\n\u001b[0;32m    414\u001b[0m         \u001b[0mWidget\u001b[0m\u001b[1;33m.\u001b[0m\u001b[0m_call_widget_constructed\u001b[0m\u001b[1;33m(\u001b[0m\u001b[0mself\u001b[0m\u001b[1;33m)\u001b[0m\u001b[1;33m\u001b[0m\u001b[1;33m\u001b[0m\u001b[0m\n",
      "\u001b[1;32m~\\anaconda3\\lib\\site-packages\\traitlets\\traitlets.py\u001b[0m in \u001b[0;36m__init__\u001b[1;34m(self, *args, **kwargs)\u001b[0m\n\u001b[0;32m   1075\u001b[0m             \u001b[1;32mfor\u001b[0m \u001b[0mkey\u001b[0m\u001b[1;33m,\u001b[0m \u001b[0mvalue\u001b[0m \u001b[1;32min\u001b[0m \u001b[0mkwargs\u001b[0m\u001b[1;33m.\u001b[0m\u001b[0mitems\u001b[0m\u001b[1;33m(\u001b[0m\u001b[1;33m)\u001b[0m\u001b[1;33m:\u001b[0m\u001b[1;33m\u001b[0m\u001b[1;33m\u001b[0m\u001b[0m\n\u001b[0;32m   1076\u001b[0m                 \u001b[1;32mif\u001b[0m \u001b[0mself\u001b[0m\u001b[1;33m.\u001b[0m\u001b[0mhas_trait\u001b[0m\u001b[1;33m(\u001b[0m\u001b[0mkey\u001b[0m\u001b[1;33m)\u001b[0m\u001b[1;33m:\u001b[0m\u001b[1;33m\u001b[0m\u001b[1;33m\u001b[0m\u001b[0m\n\u001b[1;32m-> 1077\u001b[1;33m                     \u001b[0msetattr\u001b[0m\u001b[1;33m(\u001b[0m\u001b[0mself\u001b[0m\u001b[1;33m,\u001b[0m \u001b[0mkey\u001b[0m\u001b[1;33m,\u001b[0m \u001b[0mvalue\u001b[0m\u001b[1;33m)\u001b[0m\u001b[1;33m\u001b[0m\u001b[1;33m\u001b[0m\u001b[0m\n\u001b[0m\u001b[0;32m   1078\u001b[0m                 \u001b[1;32melse\u001b[0m\u001b[1;33m:\u001b[0m\u001b[1;33m\u001b[0m\u001b[1;33m\u001b[0m\u001b[0m\n\u001b[0;32m   1079\u001b[0m                     \u001b[1;31m# passthrough args that don't set traits to super\u001b[0m\u001b[1;33m\u001b[0m\u001b[1;33m\u001b[0m\u001b[1;33m\u001b[0m\u001b[0m\n",
      "\u001b[1;32m~\\anaconda3\\lib\\site-packages\\traitlets\\traitlets.py\u001b[0m in \u001b[0;36m__set__\u001b[1;34m(self, obj, value)\u001b[0m\n\u001b[0;32m    602\u001b[0m             \u001b[1;32mraise\u001b[0m \u001b[0mTraitError\u001b[0m\u001b[1;33m(\u001b[0m\u001b[1;34m'The \"%s\" trait is read-only.'\u001b[0m \u001b[1;33m%\u001b[0m \u001b[0mself\u001b[0m\u001b[1;33m.\u001b[0m\u001b[0mname\u001b[0m\u001b[1;33m)\u001b[0m\u001b[1;33m\u001b[0m\u001b[1;33m\u001b[0m\u001b[0m\n\u001b[0;32m    603\u001b[0m         \u001b[1;32melse\u001b[0m\u001b[1;33m:\u001b[0m\u001b[1;33m\u001b[0m\u001b[1;33m\u001b[0m\u001b[0m\n\u001b[1;32m--> 604\u001b[1;33m             \u001b[0mself\u001b[0m\u001b[1;33m.\u001b[0m\u001b[0mset\u001b[0m\u001b[1;33m(\u001b[0m\u001b[0mobj\u001b[0m\u001b[1;33m,\u001b[0m \u001b[0mvalue\u001b[0m\u001b[1;33m)\u001b[0m\u001b[1;33m\u001b[0m\u001b[1;33m\u001b[0m\u001b[0m\n\u001b[0m\u001b[0;32m    605\u001b[0m \u001b[1;33m\u001b[0m\u001b[0m\n\u001b[0;32m    606\u001b[0m     \u001b[1;32mdef\u001b[0m \u001b[0m_validate\u001b[0m\u001b[1;33m(\u001b[0m\u001b[0mself\u001b[0m\u001b[1;33m,\u001b[0m \u001b[0mobj\u001b[0m\u001b[1;33m,\u001b[0m \u001b[0mvalue\u001b[0m\u001b[1;33m)\u001b[0m\u001b[1;33m:\u001b[0m\u001b[1;33m\u001b[0m\u001b[1;33m\u001b[0m\u001b[0m\n",
      "\u001b[1;32m~\\anaconda3\\lib\\site-packages\\traitlets\\traitlets.py\u001b[0m in \u001b[0;36mset\u001b[1;34m(self, obj, value)\u001b[0m\n\u001b[0;32m    576\u001b[0m \u001b[1;33m\u001b[0m\u001b[0m\n\u001b[0;32m    577\u001b[0m     \u001b[1;32mdef\u001b[0m \u001b[0mset\u001b[0m\u001b[1;33m(\u001b[0m\u001b[0mself\u001b[0m\u001b[1;33m,\u001b[0m \u001b[0mobj\u001b[0m\u001b[1;33m,\u001b[0m \u001b[0mvalue\u001b[0m\u001b[1;33m)\u001b[0m\u001b[1;33m:\u001b[0m\u001b[1;33m\u001b[0m\u001b[1;33m\u001b[0m\u001b[0m\n\u001b[1;32m--> 578\u001b[1;33m         \u001b[0mnew_value\u001b[0m \u001b[1;33m=\u001b[0m \u001b[0mself\u001b[0m\u001b[1;33m.\u001b[0m\u001b[0m_validate\u001b[0m\u001b[1;33m(\u001b[0m\u001b[0mobj\u001b[0m\u001b[1;33m,\u001b[0m \u001b[0mvalue\u001b[0m\u001b[1;33m)\u001b[0m\u001b[1;33m\u001b[0m\u001b[1;33m\u001b[0m\u001b[0m\n\u001b[0m\u001b[0;32m    579\u001b[0m         \u001b[1;32mtry\u001b[0m\u001b[1;33m:\u001b[0m\u001b[1;33m\u001b[0m\u001b[1;33m\u001b[0m\u001b[0m\n\u001b[0;32m    580\u001b[0m             \u001b[0mold_value\u001b[0m \u001b[1;33m=\u001b[0m \u001b[0mobj\u001b[0m\u001b[1;33m.\u001b[0m\u001b[0m_trait_values\u001b[0m\u001b[1;33m[\u001b[0m\u001b[0mself\u001b[0m\u001b[1;33m.\u001b[0m\u001b[0mname\u001b[0m\u001b[1;33m]\u001b[0m\u001b[1;33m\u001b[0m\u001b[1;33m\u001b[0m\u001b[0m\n",
      "\u001b[1;32m~\\anaconda3\\lib\\site-packages\\traitlets\\traitlets.py\u001b[0m in \u001b[0;36m_validate\u001b[1;34m(self, obj, value)\u001b[0m\n\u001b[0;32m    608\u001b[0m             \u001b[1;32mreturn\u001b[0m \u001b[0mvalue\u001b[0m\u001b[1;33m\u001b[0m\u001b[1;33m\u001b[0m\u001b[0m\n\u001b[0;32m    609\u001b[0m         \u001b[1;32mif\u001b[0m \u001b[0mhasattr\u001b[0m\u001b[1;33m(\u001b[0m\u001b[0mself\u001b[0m\u001b[1;33m,\u001b[0m \u001b[1;34m'validate'\u001b[0m\u001b[1;33m)\u001b[0m\u001b[1;33m:\u001b[0m\u001b[1;33m\u001b[0m\u001b[1;33m\u001b[0m\u001b[0m\n\u001b[1;32m--> 610\u001b[1;33m             \u001b[0mvalue\u001b[0m \u001b[1;33m=\u001b[0m \u001b[0mself\u001b[0m\u001b[1;33m.\u001b[0m\u001b[0mvalidate\u001b[0m\u001b[1;33m(\u001b[0m\u001b[0mobj\u001b[0m\u001b[1;33m,\u001b[0m \u001b[0mvalue\u001b[0m\u001b[1;33m)\u001b[0m\u001b[1;33m\u001b[0m\u001b[1;33m\u001b[0m\u001b[0m\n\u001b[0m\u001b[0;32m    611\u001b[0m         \u001b[1;32mif\u001b[0m \u001b[0mobj\u001b[0m\u001b[1;33m.\u001b[0m\u001b[0m_cross_validation_lock\u001b[0m \u001b[1;32mis\u001b[0m \u001b[1;32mFalse\u001b[0m\u001b[1;33m:\u001b[0m\u001b[1;33m\u001b[0m\u001b[1;33m\u001b[0m\u001b[0m\n\u001b[0;32m    612\u001b[0m             \u001b[0mvalue\u001b[0m \u001b[1;33m=\u001b[0m \u001b[0mself\u001b[0m\u001b[1;33m.\u001b[0m\u001b[0m_cross_validate\u001b[0m\u001b[1;33m(\u001b[0m\u001b[0mobj\u001b[0m\u001b[1;33m,\u001b[0m \u001b[0mvalue\u001b[0m\u001b[1;33m)\u001b[0m\u001b[1;33m\u001b[0m\u001b[1;33m\u001b[0m\u001b[0m\n",
      "\u001b[1;32m~\\anaconda3\\lib\\site-packages\\gmaps\\geotraitlets.py\u001b[0m in \u001b[0;36mvalidate\u001b[1;34m(self, obj, value)\u001b[0m\n\u001b[0;32m     42\u001b[0m                 \u001b[0mweight\u001b[0m \u001b[1;33m=\u001b[0m \u001b[0mfloat\u001b[0m\u001b[1;33m(\u001b[0m\u001b[0mweight\u001b[0m\u001b[1;33m)\u001b[0m\u001b[1;33m\u001b[0m\u001b[1;33m\u001b[0m\u001b[0m\n\u001b[0;32m     43\u001b[0m             \u001b[1;32mexcept\u001b[0m \u001b[1;33m(\u001b[0m\u001b[0mTypeError\u001b[0m\u001b[1;33m,\u001b[0m \u001b[0mValueError\u001b[0m\u001b[1;33m)\u001b[0m\u001b[1;33m:\u001b[0m\u001b[1;33m\u001b[0m\u001b[1;33m\u001b[0m\u001b[0m\n\u001b[1;32m---> 44\u001b[1;33m                 raise traitlets.TraitError(\n\u001b[0m\u001b[0;32m     45\u001b[0m                     \u001b[1;34m'{} is not a valid weight. '\u001b[0m\u001b[1;33m\u001b[0m\u001b[1;33m\u001b[0m\u001b[0m\n\u001b[0;32m     46\u001b[0m                     \u001b[1;34m'Weights must be floats'\u001b[0m\u001b[1;33m.\u001b[0m\u001b[0mformat\u001b[0m\u001b[1;33m(\u001b[0m\u001b[0mweight\u001b[0m\u001b[1;33m)\u001b[0m\u001b[1;33m\u001b[0m\u001b[1;33m\u001b[0m\u001b[0m\n",
      "\u001b[1;31mTraitError\u001b[0m: latitude is not a valid weight. Weights must be floats"
     ]
    }
   ],
   "source": [
    "from IPython.display import display\n",
    "import ipywidgets as widgets\n",
    "\n",
    "class Interactive(object):\n",
    "  \n",
    "\n",
    "    def __init__(self, sqft_price):\n",
    "        self._df = sqft_price\n",
    "        self._heatmap = None\n",
    "        self._slider = None\n",
    "        min_sqft = min(self._df['livingAreaSqFt'])\n",
    "\n",
    "        map_figure = self._render_map(min_sqft)\n",
    "        controls = self._render_controls(min_sqft)\n",
    "        self._container = widgets.VBox([title_widget, controls, map_figure])\n",
    "        \n",
    "        title_widget = widgets.HTML('<h3>Home Price by Square Footage</h3>''<h4>Data from The Austin Housing Project</a></h4>')\n",
    "\n",
    "    def render(self):\n",
    "        display(self._container)\n",
    "\n",
    "    def _on_year_change(self, change):\n",
    "        livingAreaSqFt = self._slider.value\n",
    "        self._heatmap.locations = self._locations_for_year(livingAreaSqFt)\n",
    "        self._total_box.value = self.total_price_from_sqft(livingAreaSqFt)\n",
    "        return self._container\n",
    "\n",
    "    def _render_map(self, min_sqft):\n",
    "        fig = gmaps.figure(map_type='TERRAIN')\n",
    "        self._heatmap = gmaps.heatmap_layer(self._locations_for_year(min_sqft),\n",
    "            self._locations_for_year(min_sqft),\n",
    "            max_intensity=100,\n",
    "            point_radius=8\n",
    "        )\n",
    "        \n",
    "        fig.add_layer(self._heatmap)\n",
    "        return fig\n",
    "\n",
    "    def _render_controls(self, min_sqft):\n",
    "        self._slider = widgets.IntSlider(\n",
    "            value=min_sqft,\n",
    "            min=min(self._df['livingAreaSqFt']),\n",
    "            max=max(self._df['livingAreaSqFt']),\n",
    "            description='Living Area SqFt',\n",
    "            continuous_update=False\n",
    "        )\n",
    "        self._total_box = widgets.Label(\n",
    "            value=self.total_price_from_sqft(min_sqft)\n",
    "        )\n",
    "        self._slider.observe(self._on_year_change, names='value')\n",
    "        controls = widgets.HBox(\n",
    "            [self._slider, self._total_box],\n",
    "            layout={'justify_content': 'space-between'}\n",
    "        )\n",
    "        return controls\n",
    "\n",
    "    def _locations_for_year(self, livingAreaSqFt):\n",
    "        return self._df[self._df['livingAreaSqFt'] == livingAreaSqFt][['latitude', 'longitude']]\n",
    "\n",
    "    def _total_price_from_sqft(self, livingAreaSqFt):\n",
    "        return int(self._df[self._df['livingAreaSqFt'] == livingAreaSqFt]['livingAreaSqFt'].count())\n",
    "\n",
    "    def _total_price_from_sqft(self, livingAreaSqFt):\n",
    "        return '{} civilian casualties'.format(self.total_price_from_sqft(livingAreaSqFt))\n",
    "    \n",
    "\n",
    "\n",
    "Interactive(sqft_price).render()"
   ]
  },
  {
   "cell_type": "code",
   "execution_count": null,
   "id": "70674efe",
   "metadata": {},
   "outputs": [],
   "source": []
  }
 ],
 "metadata": {
  "kernelspec": {
   "display_name": "Python 3",
   "language": "python",
   "name": "python3"
  },
  "language_info": {
   "codemirror_mode": {
    "name": "ipython",
    "version": 3
   },
   "file_extension": ".py",
   "mimetype": "text/x-python",
   "name": "python",
   "nbconvert_exporter": "python",
   "pygments_lexer": "ipython3",
   "version": "3.8.8"
  }
 },
 "nbformat": 4,
 "nbformat_minor": 5
}
